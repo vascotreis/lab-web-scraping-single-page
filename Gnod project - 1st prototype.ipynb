{
 "cells": [
  {
   "cell_type": "code",
   "execution_count": 1,
   "id": "36b7ef70",
   "metadata": {},
   "outputs": [],
   "source": [
    "import requests\n",
    "from bs4 import BeautifulSoup"
   ]
  },
  {
   "cell_type": "code",
   "execution_count": 2,
   "id": "5d9899e8",
   "metadata": {},
   "outputs": [],
   "source": [
    "url='https://www.billboard.com/charts/hot-100/'\n"
   ]
  },
  {
   "cell_type": "code",
   "execution_count": 3,
   "id": "a2c028b6",
   "metadata": {},
   "outputs": [],
   "source": [
    "results=requests.get(url, headers ={'Accept-Language':'en-US'})\n"
   ]
  },
  {
   "cell_type": "code",
   "execution_count": 4,
   "id": "696fdd9f",
   "metadata": {},
   "outputs": [],
   "source": [
    "soup = BeautifulSoup(results.content,'html.parser')\n"
   ]
  },
  {
   "cell_type": "code",
   "execution_count": 5,
   "id": "fe79aafd",
   "metadata": {},
   "outputs": [
    {
     "data": {
      "text/plain": [
       "'Anti-Hero'"
      ]
     },
     "execution_count": 5,
     "metadata": {},
     "output_type": "execute_result"
    }
   ],
   "source": [
    "soup.select('h3.c-title.a-no-trucate')[0].get_text(strip=True)\n"
   ]
  },
  {
   "cell_type": "code",
   "execution_count": 6,
   "id": "158ca3cb",
   "metadata": {},
   "outputs": [
    {
     "data": {
      "text/plain": [
       "'Taylor Swift'"
      ]
     },
     "execution_count": 6,
     "metadata": {},
     "output_type": "execute_result"
    }
   ],
   "source": [
    "soup.select('span.c-label.a-no-trucate')[0].get_text(strip=True)\n"
   ]
  },
  {
   "cell_type": "code",
   "execution_count": 7,
   "id": "6952d7af",
   "metadata": {},
   "outputs": [],
   "source": [
    "title=[]\n",
    "artists=[]\n",
    "\n",
    "len_songs=len(soup.select('h3.c-title.a-no-trucate'))"
   ]
  },
  {
   "cell_type": "code",
   "execution_count": 8,
   "id": "a489950d",
   "metadata": {},
   "outputs": [
    {
     "data": {
      "text/plain": [
       "100"
      ]
     },
     "execution_count": 8,
     "metadata": {},
     "output_type": "execute_result"
    }
   ],
   "source": [
    "len_songs\n"
   ]
  },
  {
   "cell_type": "code",
   "execution_count": 9,
   "id": "b3f2ff0f",
   "metadata": {},
   "outputs": [],
   "source": [
    "for i in range(len_songs):\n",
    "    title.append(soup.select('h3.c-title.a-no-trucate')[i].get_text(strip=True))\n",
    "    artists.append(soup.select('span.c-label.a-no-trucate')[i].get_text(strip=True))"
   ]
  },
  {
   "cell_type": "code",
   "execution_count": 10,
   "id": "16f768b9",
   "metadata": {},
   "outputs": [],
   "source": [
    "# title_df=[]\n",
    "# artist_df=[]\n",
    "\n",
    "# for songs in title:\n",
    "#     title_df.append(songs.replace('\\n', ''))\n",
    "\n",
    "# for songs in artists:\n",
    "#     artist_df.append(songs.replace('\\n', ''))\n",
    "\n",
    "\n",
    "# using strip=True in the step before it is not necessary to replace \\n"
   ]
  },
  {
   "cell_type": "code",
   "execution_count": 11,
   "id": "f7dfde08",
   "metadata": {},
   "outputs": [
    {
     "data": {
      "text/plain": [
       "100"
      ]
     },
     "execution_count": 11,
     "metadata": {},
     "output_type": "execute_result"
    }
   ],
   "source": [
    "len(title)\n"
   ]
  },
  {
   "cell_type": "code",
   "execution_count": 12,
   "id": "07c4573a",
   "metadata": {},
   "outputs": [
    {
     "data": {
      "text/plain": [
       "100"
      ]
     },
     "execution_count": 12,
     "metadata": {},
     "output_type": "execute_result"
    }
   ],
   "source": [
    "len(artists)\n"
   ]
  },
  {
   "cell_type": "code",
   "execution_count": 13,
   "id": "381d5795",
   "metadata": {},
   "outputs": [
    {
     "data": {
      "text/html": [
       "<div>\n",
       "<style scoped>\n",
       "    .dataframe tbody tr th:only-of-type {\n",
       "        vertical-align: middle;\n",
       "    }\n",
       "\n",
       "    .dataframe tbody tr th {\n",
       "        vertical-align: top;\n",
       "    }\n",
       "\n",
       "    .dataframe thead th {\n",
       "        text-align: right;\n",
       "    }\n",
       "</style>\n",
       "<table border=\"1\" class=\"dataframe\">\n",
       "  <thead>\n",
       "    <tr style=\"text-align: right;\">\n",
       "      <th></th>\n",
       "      <th>Song_title</th>\n",
       "      <th>Artists</th>\n",
       "    </tr>\n",
       "  </thead>\n",
       "  <tbody>\n",
       "    <tr>\n",
       "      <th>0</th>\n",
       "      <td>Anti-Hero</td>\n",
       "      <td>Taylor Swift</td>\n",
       "    </tr>\n",
       "    <tr>\n",
       "      <th>1</th>\n",
       "      <td>Unholy</td>\n",
       "      <td>Sam Smith &amp; Kim Petras</td>\n",
       "    </tr>\n",
       "    <tr>\n",
       "      <th>2</th>\n",
       "      <td>Kill Bill</td>\n",
       "      <td>SZA</td>\n",
       "    </tr>\n",
       "    <tr>\n",
       "      <th>3</th>\n",
       "      <td>I'm Good (Blue)</td>\n",
       "      <td>David Guetta &amp; Bebe Rexha</td>\n",
       "    </tr>\n",
       "    <tr>\n",
       "      <th>4</th>\n",
       "      <td>Rich Flex</td>\n",
       "      <td>Drake &amp; 21 Savage</td>\n",
       "    </tr>\n",
       "    <tr>\n",
       "      <th>...</th>\n",
       "      <td>...</td>\n",
       "      <td>...</td>\n",
       "    </tr>\n",
       "    <tr>\n",
       "      <th>95</th>\n",
       "      <td>Shut Up My Moms Calling</td>\n",
       "      <td>Hotel Ugly</td>\n",
       "    </tr>\n",
       "    <tr>\n",
       "      <th>96</th>\n",
       "      <td>Midnight Rain</td>\n",
       "      <td>Taylor Swift</td>\n",
       "    </tr>\n",
       "    <tr>\n",
       "      <th>97</th>\n",
       "      <td>Players</td>\n",
       "      <td>Coi Leray</td>\n",
       "    </tr>\n",
       "    <tr>\n",
       "      <th>98</th>\n",
       "      <td>Major Distribution</td>\n",
       "      <td>Drake &amp; 21 Savage</td>\n",
       "    </tr>\n",
       "    <tr>\n",
       "      <th>99</th>\n",
       "      <td>Notice Me</td>\n",
       "      <td>SZA</td>\n",
       "    </tr>\n",
       "  </tbody>\n",
       "</table>\n",
       "<p>100 rows × 2 columns</p>\n",
       "</div>"
      ],
      "text/plain": [
       "                 Song_title                    Artists\n",
       "0                 Anti-Hero               Taylor Swift\n",
       "1                    Unholy     Sam Smith & Kim Petras\n",
       "2                 Kill Bill                        SZA\n",
       "3           I'm Good (Blue)  David Guetta & Bebe Rexha\n",
       "4                 Rich Flex          Drake & 21 Savage\n",
       "..                      ...                        ...\n",
       "95  Shut Up My Moms Calling                 Hotel Ugly\n",
       "96            Midnight Rain               Taylor Swift\n",
       "97                  Players                  Coi Leray\n",
       "98       Major Distribution          Drake & 21 Savage\n",
       "99                Notice Me                        SZA\n",
       "\n",
       "[100 rows x 2 columns]"
      ]
     },
     "execution_count": 13,
     "metadata": {},
     "output_type": "execute_result"
    }
   ],
   "source": [
    "import pandas as pd\n",
    "\n",
    "songs=pd.DataFrame({'Song_title':title, 'Artists':artists})\n",
    "songs"
   ]
  },
  {
   "cell_type": "code",
   "execution_count": 14,
   "id": "53e6559d",
   "metadata": {},
   "outputs": [],
   "source": [
    "import numpy as np\n",
    "songs['Rank']=np.arange(len(songs))+1"
   ]
  },
  {
   "cell_type": "code",
   "execution_count": 15,
   "id": "69d24eaf",
   "metadata": {},
   "outputs": [
    {
     "data": {
      "text/html": [
       "<div>\n",
       "<style scoped>\n",
       "    .dataframe tbody tr th:only-of-type {\n",
       "        vertical-align: middle;\n",
       "    }\n",
       "\n",
       "    .dataframe tbody tr th {\n",
       "        vertical-align: top;\n",
       "    }\n",
       "\n",
       "    .dataframe thead th {\n",
       "        text-align: right;\n",
       "    }\n",
       "</style>\n",
       "<table border=\"1\" class=\"dataframe\">\n",
       "  <thead>\n",
       "    <tr style=\"text-align: right;\">\n",
       "      <th></th>\n",
       "      <th>Song_title</th>\n",
       "      <th>Artists</th>\n",
       "      <th>Rank</th>\n",
       "    </tr>\n",
       "  </thead>\n",
       "  <tbody>\n",
       "    <tr>\n",
       "      <th>0</th>\n",
       "      <td>Anti-Hero</td>\n",
       "      <td>Taylor Swift</td>\n",
       "      <td>1</td>\n",
       "    </tr>\n",
       "    <tr>\n",
       "      <th>1</th>\n",
       "      <td>Unholy</td>\n",
       "      <td>Sam Smith &amp; Kim Petras</td>\n",
       "      <td>2</td>\n",
       "    </tr>\n",
       "    <tr>\n",
       "      <th>2</th>\n",
       "      <td>Kill Bill</td>\n",
       "      <td>SZA</td>\n",
       "      <td>3</td>\n",
       "    </tr>\n",
       "    <tr>\n",
       "      <th>3</th>\n",
       "      <td>I'm Good (Blue)</td>\n",
       "      <td>David Guetta &amp; Bebe Rexha</td>\n",
       "      <td>4</td>\n",
       "    </tr>\n",
       "    <tr>\n",
       "      <th>4</th>\n",
       "      <td>Rich Flex</td>\n",
       "      <td>Drake &amp; 21 Savage</td>\n",
       "      <td>5</td>\n",
       "    </tr>\n",
       "    <tr>\n",
       "      <th>...</th>\n",
       "      <td>...</td>\n",
       "      <td>...</td>\n",
       "      <td>...</td>\n",
       "    </tr>\n",
       "    <tr>\n",
       "      <th>95</th>\n",
       "      <td>Shut Up My Moms Calling</td>\n",
       "      <td>Hotel Ugly</td>\n",
       "      <td>96</td>\n",
       "    </tr>\n",
       "    <tr>\n",
       "      <th>96</th>\n",
       "      <td>Midnight Rain</td>\n",
       "      <td>Taylor Swift</td>\n",
       "      <td>97</td>\n",
       "    </tr>\n",
       "    <tr>\n",
       "      <th>97</th>\n",
       "      <td>Players</td>\n",
       "      <td>Coi Leray</td>\n",
       "      <td>98</td>\n",
       "    </tr>\n",
       "    <tr>\n",
       "      <th>98</th>\n",
       "      <td>Major Distribution</td>\n",
       "      <td>Drake &amp; 21 Savage</td>\n",
       "      <td>99</td>\n",
       "    </tr>\n",
       "    <tr>\n",
       "      <th>99</th>\n",
       "      <td>Notice Me</td>\n",
       "      <td>SZA</td>\n",
       "      <td>100</td>\n",
       "    </tr>\n",
       "  </tbody>\n",
       "</table>\n",
       "<p>100 rows × 3 columns</p>\n",
       "</div>"
      ],
      "text/plain": [
       "                 Song_title                    Artists  Rank\n",
       "0                 Anti-Hero               Taylor Swift     1\n",
       "1                    Unholy     Sam Smith & Kim Petras     2\n",
       "2                 Kill Bill                        SZA     3\n",
       "3           I'm Good (Blue)  David Guetta & Bebe Rexha     4\n",
       "4                 Rich Flex          Drake & 21 Savage     5\n",
       "..                      ...                        ...   ...\n",
       "95  Shut Up My Moms Calling                 Hotel Ugly    96\n",
       "96            Midnight Rain               Taylor Swift    97\n",
       "97                  Players                  Coi Leray    98\n",
       "98       Major Distribution          Drake & 21 Savage    99\n",
       "99                Notice Me                        SZA   100\n",
       "\n",
       "[100 rows x 3 columns]"
      ]
     },
     "execution_count": 15,
     "metadata": {},
     "output_type": "execute_result"
    }
   ],
   "source": [
    "songs\n"
   ]
  },
  {
   "cell_type": "code",
   "execution_count": 16,
   "id": "8ca6cc10",
   "metadata": {},
   "outputs": [
    {
     "name": "stdout",
     "output_type": "stream",
     "text": [
      "what song do you like? anti-hero\n",
      "The song does not match, try again\n"
     ]
    }
   ],
   "source": [
    "input_song= input('what song do you like? ')\n",
    "\n",
    "if input_song in songs['Song_title'].values:\n",
    "    print ('The song exists')\n",
    "else:\n",
    "    print('The song does not match, try again')"
   ]
  },
  {
   "cell_type": "code",
   "execution_count": 17,
   "id": "7918be72",
   "metadata": {},
   "outputs": [
    {
     "name": "stdout",
     "output_type": "stream",
     "text": [
      "what song do you like? anti-hero\n",
      "This is a hot song\n"
     ]
    }
   ],
   "source": [
    "input_song= input('what song do you like? ')\n",
    "lower_song=input_song.lower()\n",
    "\n",
    "df = songs.applymap(lambda s:s.lower() if type(s) == str else s)\n",
    "\n",
    "if lower_song in df['Song_title'].values:\n",
    "    print ('This is a hot song')\n",
    "else:\n",
    "    print('This is not a hot song or does not match with the top 100, try again')"
   ]
  },
  {
   "cell_type": "code",
   "execution_count": 18,
   "id": "b5f4b271",
   "metadata": {},
   "outputs": [
    {
     "name": "stdout",
     "output_type": "stream",
     "text": [
      "what song do you like?\n",
      "\n",
      " anti-hero\n",
      "\n",
      "This is a hot song. But we suggest you these other hot songs: \n",
      "\n",
      "        Song_title     Artists\n",
      "46  Whiskey On You  Nate Smith\n"
     ]
    }
   ],
   "source": [
    "from IPython.display import display\n",
    "\n",
    "lower_song= input('what song do you like?\\n\\n ').lower()\n",
    "\n",
    "df = songs.applymap(lambda s:s.lower() if type(s) == str else s)\n",
    "\n",
    "if lower_song in df['Song_title'].values:\n",
    "    print ('\\nThis is a hot song. But we suggest you these other hot songs: \\n')\n",
    "    print(songs[['Song_title','Artists']].sample(1))\n",
    "else:\n",
    "    print('This is not a hot song or does not match with the top 100')  "
   ]
  },
  {
   "cell_type": "code",
   "execution_count": null,
   "id": "06103ed8",
   "metadata": {},
   "outputs": [],
   "source": []
  }
 ],
 "metadata": {
  "kernelspec": {
   "display_name": "Python 3 (ipykernel)",
   "language": "python",
   "name": "python3"
  },
  "language_info": {
   "codemirror_mode": {
    "name": "ipython",
    "version": 3
   },
   "file_extension": ".py",
   "mimetype": "text/x-python",
   "name": "python",
   "nbconvert_exporter": "python",
   "pygments_lexer": "ipython3",
   "version": "3.9.13"
  }
 },
 "nbformat": 4,
 "nbformat_minor": 5
}
