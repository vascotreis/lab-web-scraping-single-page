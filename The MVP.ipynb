{
 "cells": [
  {
   "cell_type": "code",
   "execution_count": 1,
   "id": "7eeaf02d-fef9-421e-a689-8ced5a743d40",
   "metadata": {},
   "outputs": [
    {
     "name": "stderr",
     "output_type": "stream",
     "text": [
      "100%|█████████████████████████████████████████████████████████████████████████████████████████████| 100/100 [00:10<00:00,  9.70it/s]\n"
     ]
    }
   ],
   "source": [
    "# Importing necessary libraries\n",
    "import requests\n",
    "from bs4 import BeautifulSoup\n",
    "import pandas as pd\n",
    "from tqdm import tqdm\n",
    "\n",
    "# URL for the billboard top 100 songs\n",
    "url = \"https://www.billboard.com/charts/hot-100\"\n",
    "\n",
    "# Making a GET request to the URL\n",
    "response = requests.get(url)\n",
    "\n",
    "# Checking if the GET request was successful\n",
    "if response.status_code == 200:\n",
    "    # Parsing the contents of the URL\n",
    "    soup = BeautifulSoup(response.content, 'html.parser')\n",
    "\n",
    "# Number of top 100 songs\n",
    "top_100 = len(soup.select('h3.c-title.a-no-trucate'))\n",
    "\n",
    "# Empty lists to store song names and artists\n",
    "songs = []\n",
    "artists = []\n",
    "\n",
    "# Looping through the songs\n",
    "for i in tqdm(range(top_100)):\n",
    "    # Extracting song names and artists\n",
    "    songs.append(soup.select('h3.c-title.a-no-trucate')[i].get_text(strip=True))\n",
    "    artists.append(soup.select('span.c-label.a-font-primary-s')[i].get_text(strip=True))\n",
    "\n",
    "# Creating a DataFrame to store song names and artists\n",
    "billboard_top100 = pd.DataFrame({'song':songs,'artist':artists})"
   ]
  },
  {
   "cell_type": "code",
   "execution_count": 2,
   "id": "105db94a",
   "metadata": {},
   "outputs": [
    {
     "name": "stdin",
     "output_type": "stream",
     "text": [
      "What song do you have in mind?:  n\n",
      "Are you thinking about 'Anti-Hero' by 'Taylor Swift'? [y/n]:  y\n"
     ]
    },
    {
     "name": "stdout",
     "output_type": "stream",
     "text": [
      "Then listen to 'You Proof' by 'Morgan Wallen' I think you'll like it.\n"
     ]
    },
    {
     "name": "stdin",
     "output_type": "stream",
     "text": [
      "Want to try again? [y/n]:  n\n"
     ]
    },
    {
     "name": "stdout",
     "output_type": "stream",
     "text": [
      "Oh well, your bad, this is an awesome recommender\n"
     ]
    }
   ],
   "source": [
    "def suggester():\n",
    "    # Take the input of song and lowercase it, then remove all spaces\n",
    "    song = str(input(\"What song do you have in mind?: \").lower().replace(\" \", ''))\n",
    "    # Check if the song is in the billboard top 100 chart by filtering the dataframe \n",
    "    check = billboard_top100[billboard_top100['song'].str.lower().str.replace(\" \",\"\").str.contains(song)]\n",
    "\n",
    "    # Get the index of the song\n",
    "    index = check.index.tolist()\n",
    "\n",
    "    # If the song is not in the billboard top 100 chart, give a message and ask the user to try again or not\n",
    "    if len(check) == 0:\n",
    "        print(\"Oh well, my bad, but that song is not hot. Anyway! Good for you for not following the crowds!\")\n",
    "        song2 = str(input(\"Want to try again? [y/n]: \")).lower().replace(\" \", '')\n",
    "        if song2 == 'y':\n",
    "            print('Awesome! Here, have another go:')\n",
    "            suggester()\n",
    "        else:\n",
    "            print('Oh well, your bad, this is an awesome recommender')\n",
    "    else:\n",
    "        # If the song is in the billboard top 100 chart, ask the user if it's the song he/she had in mind\n",
    "        answer1 = input(\"Are you thinking about '\" + billboard_top100.song[index].values[0] + \"' by '\" + billboard_top100.artist[index].values[0] + \"'? [y/n]: \")\n",
    "        # If the answer is yes, make a random song suggestion and ask the user if he/she wants to try again or not\n",
    "        if answer1.lower() == 'y':\n",
    "            suggestion = billboard_top100.sample().index.tolist()\n",
    "            print(\"Then listen to '\" + billboard_top100['song'][suggestion].item() + \"' by '\" + billboard_top100['artist'][suggestion].item() + \"' I think you'll like it.\")\n",
    "            song2 = str(input(\"Want to try again? [y/n]: \")).lower().replace(\" \", '')\n",
    "            if song2 == 'y':\n",
    "                print('Awesome! Here, have another go:')\n",
    "                suggester()\n",
    "            else:\n",
    "                print('Oh well, your bad, this is an awesome recommender')\n",
    "        # If the answer is no, give a message and ask the user to try again or not\n",
    "        else:\n",
    "            print(\"That song is not hot, good for you for not following the crowds!\")\n",
    "            song2 = str(input(\"Want to try again? [y/n]: \")).lower().replace(\" \", '')\n",
    "            if song2 == 'y':\n",
    "                print('Awesome! Here, have another go:')\n",
    "                suggester()\n",
    "            else:\n",
    "                print('Oh well, your bad, this is an awesome recommender')\n",
    "        \n",
    "suggester()"
   ]
  },
  {
   "cell_type": "code",
   "execution_count": null,
   "id": "ccf1e302",
   "metadata": {},
   "outputs": [],
   "source": []
  }
 ],
 "metadata": {
  "kernelspec": {
   "display_name": "Python 3 (ipykernel)",
   "language": "python",
   "name": "python3"
  },
  "language_info": {
   "codemirror_mode": {
    "name": "ipython",
    "version": 3
   },
   "file_extension": ".py",
   "mimetype": "text/x-python",
   "name": "python",
   "nbconvert_exporter": "python",
   "pygments_lexer": "ipython3",
   "version": "3.9.13"
  }
 },
 "nbformat": 4,
 "nbformat_minor": 5
}
