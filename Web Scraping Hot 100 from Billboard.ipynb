{
 "cells": [
  {
   "cell_type": "markdown",
   "id": "64f5504b",
   "metadata": {},
   "source": [
    "### Web Scraping Hot 100 from Billboard\n",
    "https://www.billboard.com/charts/hot-100"
   ]
  },
  {
   "cell_type": "code",
   "execution_count": 1,
   "id": "f0de8a44-da3c-4326-b497-a51fbe2e62d8",
   "metadata": {},
   "outputs": [
    {
     "name": "stderr",
     "output_type": "stream",
     "text": [
      "100%|█████████████████████████████████████████████████████████████████████████████████████████████| 100/100 [00:10<00:00,  9.61it/s]\n"
     ]
    }
   ],
   "source": [
    "# Importing libraries\n",
    "import requests\n",
    "from bs4 import BeautifulSoup\n",
    "import pandas as pd\n",
    "from tqdm import tqdm\n",
    "from random import randint\n",
    "\n",
    "# Storing URL in a variable\n",
    "url = \"https://www.billboard.com/charts/hot-100\"\n",
    "\n",
    "# Sending a GET request to the URL\n",
    "response = requests.get(url)\n",
    "\n",
    "# Checking the response status code to make sure it's successful\n",
    "if response.status_code == 200:\n",
    "    # Parsing the content of the URL\n",
    "    soup = BeautifulSoup(response.content, 'html.parser')\n",
    "else:\n",
    "    # If request was unsuccessful, print an error message\n",
    "    print(\"Failed to retrieve page content. Response status code: \", response.status_code)\n",
    "\n",
    "# Initializing empty lists to store the song titles and artists\n",
    "songs = []\n",
    "artists = []\n",
    "\n",
    "# Using a for loop to loop through all 100 songs on the chart\n",
    "for i in tqdm(range(100)):\n",
    "    # Selecting the i-th song title from the soup and appending it to the songs list\n",
    "    songs.append(soup.select('h3.c-title.a-no-trucate')[i].get_text(strip=True))\n",
    "    # Selecting the i-th artist from the soup and appending it to the artists list\n",
    "    artists.append(soup.select('span.c-label.a-font-primary-s')[i].get_text(strip=True))\n",
    "\n",
    "# Creating a pandas DataFrame from the songs and artists lists, with columns named \"song\" and \"artist\" respectively\n",
    "billboard_top100 = pd.DataFrame({'song':songs,'artist':artists})\n"
   ]
  },
  {
   "cell_type": "code",
   "execution_count": 2,
   "id": "019c37d6-3e54-4b90-97c8-3f7e83631139",
   "metadata": {},
   "outputs": [
    {
     "data": {
      "text/html": [
       "<div>\n",
       "<style scoped>\n",
       "    .dataframe tbody tr th:only-of-type {\n",
       "        vertical-align: middle;\n",
       "    }\n",
       "\n",
       "    .dataframe tbody tr th {\n",
       "        vertical-align: top;\n",
       "    }\n",
       "\n",
       "    .dataframe thead th {\n",
       "        text-align: right;\n",
       "    }\n",
       "</style>\n",
       "<table border=\"1\" class=\"dataframe\">\n",
       "  <thead>\n",
       "    <tr style=\"text-align: right;\">\n",
       "      <th></th>\n",
       "      <th>song</th>\n",
       "      <th>artist</th>\n",
       "    </tr>\n",
       "  </thead>\n",
       "  <tbody>\n",
       "    <tr>\n",
       "      <th>0</th>\n",
       "      <td>Flowers</td>\n",
       "      <td>Miley Cyrus</td>\n",
       "    </tr>\n",
       "    <tr>\n",
       "      <th>1</th>\n",
       "      <td>Kill Bill</td>\n",
       "      <td>SZA</td>\n",
       "    </tr>\n",
       "    <tr>\n",
       "      <th>2</th>\n",
       "      <td>Anti-Hero</td>\n",
       "      <td>Taylor Swift</td>\n",
       "    </tr>\n",
       "    <tr>\n",
       "      <th>3</th>\n",
       "      <td>Creepin'</td>\n",
       "      <td>Metro Boomin, The Weeknd &amp; 21 Savage</td>\n",
       "    </tr>\n",
       "    <tr>\n",
       "      <th>4</th>\n",
       "      <td>Unholy</td>\n",
       "      <td>Sam Smith &amp; Kim Petras</td>\n",
       "    </tr>\n",
       "  </tbody>\n",
       "</table>\n",
       "</div>"
      ],
      "text/plain": [
       "        song                                artist\n",
       "0    Flowers                           Miley Cyrus\n",
       "1  Kill Bill                                   SZA\n",
       "2  Anti-Hero                          Taylor Swift\n",
       "3   Creepin'  Metro Boomin, The Weeknd & 21 Savage\n",
       "4     Unholy                Sam Smith & Kim Petras"
      ]
     },
     "execution_count": 2,
     "metadata": {},
     "output_type": "execute_result"
    }
   ],
   "source": [
    "billboard_top100.head()"
   ]
  },
  {
   "cell_type": "code",
   "execution_count": 3,
   "id": "55c09d15",
   "metadata": {},
   "outputs": [],
   "source": [
    "billboard_top100.to_csv(r'billboard_top100.csv', index = False, header = True)"
   ]
  },
  {
   "cell_type": "code",
   "execution_count": null,
   "id": "cd66b038",
   "metadata": {},
   "outputs": [],
   "source": []
  }
 ],
 "metadata": {
  "kernelspec": {
   "display_name": "Python 3 (ipykernel)",
   "language": "python",
   "name": "python3"
  },
  "language_info": {
   "codemirror_mode": {
    "name": "ipython",
    "version": 3
   },
   "file_extension": ".py",
   "mimetype": "text/x-python",
   "name": "python",
   "nbconvert_exporter": "python",
   "pygments_lexer": "ipython3",
   "version": "3.9.13"
  }
 },
 "nbformat": 4,
 "nbformat_minor": 5
}
