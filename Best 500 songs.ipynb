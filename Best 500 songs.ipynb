{
 "cells": [
  {
   "cell_type": "markdown",
   "id": "4340d3bf",
   "metadata": {},
   "source": [
    " #### Rolling stones 500 \n",
    " https://www.cs.ubc.ca/~davet/music/list/Best9.html"
   ]
  },
  {
   "cell_type": "code",
   "execution_count": 2,
   "id": "7f932627",
   "metadata": {},
   "outputs": [
    {
     "name": "stderr",
     "output_type": "stream",
     "text": [
      "100%|█████████████████████████████████████████████████████████████████████████████████████████████| 500/500 [02:35<00:00,  3.22it/s]\n"
     ]
    }
   ],
   "source": [
    "# Importing required libraries\n",
    "import requests\n",
    "from bs4 import BeautifulSoup\n",
    "import pandas as pd\n",
    "from tqdm import tqdm\n",
    "\n",
    "# URL for the Rolling Stone's Top 500 songs\n",
    "url = \"https://www.cs.ubc.ca/~davet/music/list/Best9.html\"\n",
    "\n",
    "# Sending a GET request to the URL and storing the response\n",
    "response = requests.get(url)\n",
    "\n",
    "# Checking the response status code to make sure it's successful\n",
    "assert response.status_code == 200\n",
    "\n",
    "# Parsing the HTML content of the response\n",
    "soup = BeautifulSoup(response.content, 'html.parser')\n",
    "\n",
    "# Selecting the number of songs in the top 500 list\n",
    "num_songs = len(soup.select('td:nth-child(4) > a'))\n",
    "\n",
    "# Creating lists to store song names and artists\n",
    "songs = []\n",
    "artists = []\n",
    "\n",
    "# Looping through each song in the top 500 list\n",
    "for i in tqdm(range(num_songs)):\n",
    "    # Selecting the song name and storing it in the 'songs' list\n",
    "    songs.append(soup.select('td:nth-child(4) > a')[i].get_text(strip=True))\n",
    "    # Selecting the artist name and storing it in the 'artists' list\n",
    "    artists.append(soup.select('td:nth-child(3) > a:nth-child(2)')[i].get_text(strip=True))\n",
    "\n",
    "# Creating a DataFrame from the lists of songs and artists\n",
    "best_500 = pd.DataFrame({'song': songs, 'artist': artists})\n"
   ]
  },
  {
   "cell_type": "code",
   "execution_count": 3,
   "id": "b8975d73-4e69-4dfa-ac3e-de046b0808ef",
   "metadata": {},
   "outputs": [
    {
     "data": {
      "text/html": [
       "<div>\n",
       "<style scoped>\n",
       "    .dataframe tbody tr th:only-of-type {\n",
       "        vertical-align: middle;\n",
       "    }\n",
       "\n",
       "    .dataframe tbody tr th {\n",
       "        vertical-align: top;\n",
       "    }\n",
       "\n",
       "    .dataframe thead th {\n",
       "        text-align: right;\n",
       "    }\n",
       "</style>\n",
       "<table border=\"1\" class=\"dataframe\">\n",
       "  <thead>\n",
       "    <tr style=\"text-align: right;\">\n",
       "      <th></th>\n",
       "      <th>song</th>\n",
       "      <th>artist</th>\n",
       "    </tr>\n",
       "  </thead>\n",
       "  <tbody>\n",
       "    <tr>\n",
       "      <th>0</th>\n",
       "      <td>Like a Rolling Stone</td>\n",
       "      <td>Bob Dylan</td>\n",
       "    </tr>\n",
       "    <tr>\n",
       "      <th>1</th>\n",
       "      <td>Satisfaction</td>\n",
       "      <td>The Rolling Stones</td>\n",
       "    </tr>\n",
       "    <tr>\n",
       "      <th>2</th>\n",
       "      <td>Imagine</td>\n",
       "      <td>John Lennon</td>\n",
       "    </tr>\n",
       "    <tr>\n",
       "      <th>3</th>\n",
       "      <td>What's Going On</td>\n",
       "      <td>Marvin Gaye</td>\n",
       "    </tr>\n",
       "    <tr>\n",
       "      <th>4</th>\n",
       "      <td>Respect</td>\n",
       "      <td>Aretha Franklin</td>\n",
       "    </tr>\n",
       "    <tr>\n",
       "      <th>...</th>\n",
       "      <td>...</td>\n",
       "      <td>...</td>\n",
       "    </tr>\n",
       "    <tr>\n",
       "      <th>495</th>\n",
       "      <td>Miss You</td>\n",
       "      <td>The Rolling Stones</td>\n",
       "    </tr>\n",
       "    <tr>\n",
       "      <th>496</th>\n",
       "      <td>Buddy Holly</td>\n",
       "      <td>Weezer</td>\n",
       "    </tr>\n",
       "    <tr>\n",
       "      <th>497</th>\n",
       "      <td>Rainy Night in Georgia</td>\n",
       "      <td>Brook Benton</td>\n",
       "    </tr>\n",
       "    <tr>\n",
       "      <th>498</th>\n",
       "      <td>The Boys Are Back in Town</td>\n",
       "      <td>Thin Lizzy</td>\n",
       "    </tr>\n",
       "    <tr>\n",
       "      <th>499</th>\n",
       "      <td>More Than a Feeling</td>\n",
       "      <td>Boston</td>\n",
       "    </tr>\n",
       "  </tbody>\n",
       "</table>\n",
       "<p>500 rows × 2 columns</p>\n",
       "</div>"
      ],
      "text/plain": [
       "                          song              artist\n",
       "0         Like a Rolling Stone           Bob Dylan\n",
       "1                 Satisfaction  The Rolling Stones\n",
       "2                      Imagine         John Lennon\n",
       "3              What's Going On         Marvin Gaye\n",
       "4                      Respect     Aretha Franklin\n",
       "..                         ...                 ...\n",
       "495                   Miss You  The Rolling Stones\n",
       "496                Buddy Holly              Weezer\n",
       "497     Rainy Night in Georgia        Brook Benton\n",
       "498  The Boys Are Back in Town          Thin Lizzy\n",
       "499        More Than a Feeling              Boston\n",
       "\n",
       "[500 rows x 2 columns]"
      ]
     },
     "execution_count": 3,
     "metadata": {},
     "output_type": "execute_result"
    }
   ],
   "source": [
    "best_500"
   ]
  },
  {
   "cell_type": "code",
   "execution_count": 4,
   "id": "89e86eb9-f07b-4f1a-8ec5-c0e082d2e8ff",
   "metadata": {},
   "outputs": [],
   "source": [
    "# Saving the DataFrame as a CSV file\n",
    "best_500.to_csv(\"best_500.csv\", index=False, header=True)"
   ]
  }
 ],
 "metadata": {
  "kernelspec": {
   "display_name": "Python 3 (ipykernel)",
   "language": "python",
   "name": "python3"
  },
  "language_info": {
   "codemirror_mode": {
    "name": "ipython",
    "version": 3
   },
   "file_extension": ".py",
   "mimetype": "text/x-python",
   "name": "python",
   "nbconvert_exporter": "python",
   "pygments_lexer": "ipython3",
   "version": "3.9.13"
  }
 },
 "nbformat": 4,
 "nbformat_minor": 5
}
