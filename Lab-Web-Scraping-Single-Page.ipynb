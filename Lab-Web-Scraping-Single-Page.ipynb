{
 "cells": [
  {
   "cell_type": "code",
   "execution_count": 29,
   "id": "98091db1",
   "metadata": {},
   "outputs": [],
   "source": [
    "#import BeautifulSoup\n",
    "import requests\n",
    "from bs4 import BeautifulSoup\n",
    "#import pandas & numpy\n",
    "import pandas as pd\n",
    "import numpy as np"
   ]
  },
  {
   "cell_type": "code",
   "execution_count": 30,
   "id": "a4c19b72",
   "metadata": {},
   "outputs": [],
   "source": [
    "url=\"https://www.billboard.com/charts/hot-100/\""
   ]
  },
  {
   "cell_type": "code",
   "execution_count": 31,
   "id": "3518bbf6",
   "metadata": {},
   "outputs": [],
   "source": [
    "page = requests.get(url)"
   ]
  },
  {
   "cell_type": "code",
   "execution_count": 32,
   "id": "778c93cb",
   "metadata": {},
   "outputs": [
    {
     "data": {
      "text/plain": [
       "<Response [200]>"
      ]
     },
     "execution_count": 32,
     "metadata": {},
     "output_type": "execute_result"
    }
   ],
   "source": [
    "page"
   ]
  },
  {
   "cell_type": "code",
   "execution_count": 38,
   "id": "dbb7bd5b",
   "metadata": {},
   "outputs": [],
   "source": [
    "soup = BeautifulSoup(page.content,'html.parser')"
   ]
  },
  {
   "cell_type": "code",
   "execution_count": 39,
   "id": "34ce1c36",
   "metadata": {},
   "outputs": [
    {
     "data": {
      "text/plain": [
       "'All I Want For Christmas Is You'"
      ]
     },
     "execution_count": 39,
     "metadata": {},
     "output_type": "execute_result"
    }
   ],
   "source": [
    "soup.select('li.o-chart-results-list__item h3.c-title ')[0].get_text(strip=True)"
   ]
  },
  {
   "cell_type": "code",
   "execution_count": 40,
   "id": "6ec210bf",
   "metadata": {},
   "outputs": [
    {
     "data": {
      "text/plain": [
       "'Mariah Carey'"
      ]
     },
     "execution_count": 40,
     "metadata": {},
     "output_type": "execute_result"
    }
   ],
   "source": [
    "soup.select('li.o-chart-results-list__item span.c-label.a-no-trucate')[0].get_text(strip=True)"
   ]
  },
  {
   "cell_type": "code",
   "execution_count": 41,
   "id": "e7e98543",
   "metadata": {},
   "outputs": [
    {
     "data": {
      "text/plain": [
       "100"
      ]
     },
     "execution_count": 41,
     "metadata": {},
     "output_type": "execute_result"
    }
   ],
   "source": [
    "len_song= len(soup.select('li.o-chart-results-list__item h3.c-title '))\n",
    "len_song"
   ]
  },
  {
   "cell_type": "code",
   "execution_count": 42,
   "id": "665cbbce",
   "metadata": {},
   "outputs": [
    {
     "data": {
      "text/plain": [
       "100"
      ]
     },
     "execution_count": 42,
     "metadata": {},
     "output_type": "execute_result"
    }
   ],
   "source": [
    "len_song= len(soup.select('li.o-chart-results-list__item h3.c-title '))\n",
    "len_song"
   ]
  },
  {
   "cell_type": "code",
   "execution_count": 43,
   "id": "beb3045b",
   "metadata": {},
   "outputs": [],
   "source": [
    "for i in range (len_song):\n",
    "    song.append(soup.select('li.o-chart-results-list__item h3.c-title ')[i].get_text(strip=True))\n",
    "    artist.append(soup.select('li.o-chart-results-list__item h3.c-title ')[i].get_text(strip=True))\n",
    "    "
   ]
  },
  {
   "cell_type": "code",
   "execution_count": 44,
   "id": "719737c8",
   "metadata": {},
   "outputs": [
    {
     "data": {
      "text/plain": [
       "200"
      ]
     },
     "execution_count": 44,
     "metadata": {},
     "output_type": "execute_result"
    }
   ],
   "source": [
    "len(song)"
   ]
  },
  {
   "cell_type": "code",
   "execution_count": 45,
   "id": "ad76c106",
   "metadata": {},
   "outputs": [
    {
     "data": {
      "text/plain": [
       "200"
      ]
     },
     "execution_count": 45,
     "metadata": {},
     "output_type": "execute_result"
    }
   ],
   "source": [
    "len(artist)"
   ]
  },
  {
   "cell_type": "code",
   "execution_count": 46,
   "id": "fe7259eb",
   "metadata": {},
   "outputs": [
    {
     "data": {
      "text/plain": [
       "list"
      ]
     },
     "execution_count": 46,
     "metadata": {},
     "output_type": "execute_result"
    }
   ],
   "source": [
    "type(song)"
   ]
  },
  {
   "cell_type": "code",
   "execution_count": 47,
   "id": "e4740a39",
   "metadata": {},
   "outputs": [
    {
     "data": {
      "text/plain": [
       "['All I Want For Christmas Is You',\n",
       " \"Rockin' Around The Christmas Tree\",\n",
       " 'Jingle Bell Rock',\n",
       " 'Last Christmas',\n",
       " 'A Holly Jolly Christmas',\n",
       " \"It's The Most Wonderful Time Of The Year\",\n",
       " 'Feliz Navidad',\n",
       " 'Anti-Hero',\n",
       " 'The Christmas Song (Merry Christmas To You)',\n",
       " 'Unholy',\n",
       " 'Kill Bill',\n",
       " 'Santa Tell Me',\n",
       " 'Sleigh Ride',\n",
       " 'Underneath The Tree',\n",
       " 'Christmas (Baby Please Come Home)',\n",
       " 'White Christmas',\n",
       " 'Deck The Halls',\n",
       " 'Let It Snow, Let It Snow, Let It Snow',\n",
       " \"I'm Good (Blue)\",\n",
       " 'Jingle Bells',\n",
       " 'Rich Flex',\n",
       " \"Creepin'\",\n",
       " \"It's Beginning To Look A Lot Like Christmas\",\n",
       " 'Blue Christmas',\n",
       " \"It's Beginning To Look A Lot Like Christmas\",\n",
       " 'Die For You',\n",
       " 'Here Comes Santa Claus (Right Down Santa Claus Lane)',\n",
       " 'Rudolph The Red-Nosed Reindeer',\n",
       " 'Little Saint Nick',\n",
       " 'Bad Habit',\n",
       " 'As It Was',\n",
       " 'Run Rudolph Run',\n",
       " 'Wonderful Christmastime',\n",
       " \"Santa Claus Is Comin' To Town\",\n",
       " \"You're A Mean One, Mr. Grinch\",\n",
       " 'Santa Baby',\n",
       " 'This Christmas',\n",
       " 'Cuff It',\n",
       " 'Under The Influence',\n",
       " 'Happy Holiday / The Holiday Season',\n",
       " \"(There's No Place Like) Home For The Holidays (1959)\",\n",
       " 'Something In The Orange',\n",
       " 'Please Come Home For Christmas',\n",
       " 'Merry Christmas',\n",
       " 'Made You Look',\n",
       " 'You Proof',\n",
       " 'Happy Xmas (War Is Over)',\n",
       " 'Have Yourself A Merry Little Christmas',\n",
       " 'Golden Hour',\n",
       " 'Christmastime Is Here',\n",
       " 'Super Freaky Girl',\n",
       " 'Shirt',\n",
       " 'Just Wanna Rock',\n",
       " 'Tomorrow 2',\n",
       " 'Superhero (Heroes & Villains)',\n",
       " 'Thank God',\n",
       " 'Lift Me Up',\n",
       " 'Until I Found You',\n",
       " 'Nobody Gets Me',\n",
       " 'Someday At Christmas',\n",
       " 'Rock And A Hard Place',\n",
       " 'Gato de Noche',\n",
       " \"Victoria's Secret\",\n",
       " 'Lavender Haze',\n",
       " 'Low',\n",
       " 'Son Of A Sinner',\n",
       " 'Blind',\n",
       " 'What My World Spins Around',\n",
       " 'Wait In The Truck',\n",
       " 'Going, Going, Gone',\n",
       " 'Heart Like A Truck',\n",
       " 'Last Christmas',\n",
       " 'Blue Christmas',\n",
       " 'Snooze',\n",
       " 'Escapism',\n",
       " \"Santa, Can't You Hear Me\",\n",
       " 'Love Language',\n",
       " \"Star Walkin' (League Of Legends Worlds Anthem)\",\n",
       " 'Calm Down',\n",
       " 'Whiskey On You',\n",
       " 'Seek & Destroy',\n",
       " 'Hold Me Closer',\n",
       " 'Que Vuelvas',\n",
       " 'Too Many Nights',\n",
       " 'Spin Bout U',\n",
       " 'Used',\n",
       " 'Romantic Homicide',\n",
       " 'Circo Loco',\n",
       " 'Ghost In The Machine',\n",
       " 'Down Home',\n",
       " 'Bebe Dame',\n",
       " 'Special',\n",
       " 'No Se Va',\n",
       " 'Kid On Christmas',\n",
       " 'One Thing At A Time',\n",
       " 'Pick Me Up',\n",
       " 'SOS',\n",
       " 'Forget Me',\n",
       " 'La Jumpa',\n",
       " 'Gone Girl',\n",
       " 'All I Want For Christmas Is You',\n",
       " \"Rockin' Around The Christmas Tree\",\n",
       " 'Jingle Bell Rock',\n",
       " 'Last Christmas',\n",
       " 'A Holly Jolly Christmas',\n",
       " \"It's The Most Wonderful Time Of The Year\",\n",
       " 'Feliz Navidad',\n",
       " 'Anti-Hero',\n",
       " 'The Christmas Song (Merry Christmas To You)',\n",
       " 'Unholy',\n",
       " 'Kill Bill',\n",
       " 'Santa Tell Me',\n",
       " 'Sleigh Ride',\n",
       " 'Underneath The Tree',\n",
       " 'Christmas (Baby Please Come Home)',\n",
       " 'White Christmas',\n",
       " 'Deck The Halls',\n",
       " 'Let It Snow, Let It Snow, Let It Snow',\n",
       " \"I'm Good (Blue)\",\n",
       " 'Jingle Bells',\n",
       " 'Rich Flex',\n",
       " \"Creepin'\",\n",
       " \"It's Beginning To Look A Lot Like Christmas\",\n",
       " 'Blue Christmas',\n",
       " \"It's Beginning To Look A Lot Like Christmas\",\n",
       " 'Die For You',\n",
       " 'Here Comes Santa Claus (Right Down Santa Claus Lane)',\n",
       " 'Rudolph The Red-Nosed Reindeer',\n",
       " 'Little Saint Nick',\n",
       " 'Bad Habit',\n",
       " 'As It Was',\n",
       " 'Run Rudolph Run',\n",
       " 'Wonderful Christmastime',\n",
       " \"Santa Claus Is Comin' To Town\",\n",
       " \"You're A Mean One, Mr. Grinch\",\n",
       " 'Santa Baby',\n",
       " 'This Christmas',\n",
       " 'Cuff It',\n",
       " 'Under The Influence',\n",
       " 'Happy Holiday / The Holiday Season',\n",
       " \"(There's No Place Like) Home For The Holidays (1959)\",\n",
       " 'Something In The Orange',\n",
       " 'Please Come Home For Christmas',\n",
       " 'Merry Christmas',\n",
       " 'Made You Look',\n",
       " 'You Proof',\n",
       " 'Happy Xmas (War Is Over)',\n",
       " 'Have Yourself A Merry Little Christmas',\n",
       " 'Golden Hour',\n",
       " 'Christmastime Is Here',\n",
       " 'Super Freaky Girl',\n",
       " 'Shirt',\n",
       " 'Just Wanna Rock',\n",
       " 'Tomorrow 2',\n",
       " 'Superhero (Heroes & Villains)',\n",
       " 'Thank God',\n",
       " 'Lift Me Up',\n",
       " 'Until I Found You',\n",
       " 'Nobody Gets Me',\n",
       " 'Someday At Christmas',\n",
       " 'Rock And A Hard Place',\n",
       " 'Gato de Noche',\n",
       " \"Victoria's Secret\",\n",
       " 'Lavender Haze',\n",
       " 'Low',\n",
       " 'Son Of A Sinner',\n",
       " 'Blind',\n",
       " 'What My World Spins Around',\n",
       " 'Wait In The Truck',\n",
       " 'Going, Going, Gone',\n",
       " 'Heart Like A Truck',\n",
       " 'Last Christmas',\n",
       " 'Blue Christmas',\n",
       " 'Snooze',\n",
       " 'Escapism',\n",
       " \"Santa, Can't You Hear Me\",\n",
       " 'Love Language',\n",
       " \"Star Walkin' (League Of Legends Worlds Anthem)\",\n",
       " 'Calm Down',\n",
       " 'Whiskey On You',\n",
       " 'Seek & Destroy',\n",
       " 'Hold Me Closer',\n",
       " 'Que Vuelvas',\n",
       " 'Too Many Nights',\n",
       " 'Spin Bout U',\n",
       " 'Used',\n",
       " 'Romantic Homicide',\n",
       " 'Circo Loco',\n",
       " 'Ghost In The Machine',\n",
       " 'Down Home',\n",
       " 'Bebe Dame',\n",
       " 'Special',\n",
       " 'No Se Va',\n",
       " 'Kid On Christmas',\n",
       " 'One Thing At A Time',\n",
       " 'Pick Me Up',\n",
       " 'SOS',\n",
       " 'Forget Me',\n",
       " 'La Jumpa',\n",
       " 'Gone Girl']"
      ]
     },
     "execution_count": 47,
     "metadata": {},
     "output_type": "execute_result"
    }
   ],
   "source": [
    "song"
   ]
  },
  {
   "cell_type": "code",
   "execution_count": 48,
   "id": "f8abe5fa",
   "metadata": {},
   "outputs": [],
   "source": [
    "list_song= pd.DataFrame({'Songs':song, 'Artist':artist})"
   ]
  },
  {
   "cell_type": "code",
   "execution_count": 49,
   "id": "b1104e24",
   "metadata": {},
   "outputs": [],
   "source": [
    "list_song['rank']= np.arange(len(song))+1"
   ]
  },
  {
   "cell_type": "code",
   "execution_count": 50,
   "id": "40ef1e8e",
   "metadata": {},
   "outputs": [
    {
     "data": {
      "text/html": [
       "<div>\n",
       "<style scoped>\n",
       "    .dataframe tbody tr th:only-of-type {\n",
       "        vertical-align: middle;\n",
       "    }\n",
       "\n",
       "    .dataframe tbody tr th {\n",
       "        vertical-align: top;\n",
       "    }\n",
       "\n",
       "    .dataframe thead th {\n",
       "        text-align: right;\n",
       "    }\n",
       "</style>\n",
       "<table border=\"1\" class=\"dataframe\">\n",
       "  <thead>\n",
       "    <tr style=\"text-align: right;\">\n",
       "      <th></th>\n",
       "      <th>Songs</th>\n",
       "      <th>Artist</th>\n",
       "      <th>rank</th>\n",
       "    </tr>\n",
       "  </thead>\n",
       "  <tbody>\n",
       "    <tr>\n",
       "      <th>0</th>\n",
       "      <td>All I Want For Christmas Is You</td>\n",
       "      <td>Daughtry</td>\n",
       "      <td>1</td>\n",
       "    </tr>\n",
       "    <tr>\n",
       "      <th>1</th>\n",
       "      <td>Rockin' Around The Christmas Tree</td>\n",
       "      <td>Sam Smith &amp; Kim Petras</td>\n",
       "      <td>2</td>\n",
       "    </tr>\n",
       "    <tr>\n",
       "      <th>2</th>\n",
       "      <td>Jingle Bell Rock</td>\n",
       "      <td>Lainey Wilson</td>\n",
       "      <td>3</td>\n",
       "    </tr>\n",
       "    <tr>\n",
       "      <th>3</th>\n",
       "      <td>Last Christmas</td>\n",
       "      <td>Taylor Swift</td>\n",
       "      <td>4</td>\n",
       "    </tr>\n",
       "    <tr>\n",
       "      <th>4</th>\n",
       "      <td>A Holly Jolly Christmas</td>\n",
       "      <td>Rihanna</td>\n",
       "      <td>5</td>\n",
       "    </tr>\n",
       "    <tr>\n",
       "      <th>...</th>\n",
       "      <td>...</td>\n",
       "      <td>...</td>\n",
       "      <td>...</td>\n",
       "    </tr>\n",
       "    <tr>\n",
       "      <th>195</th>\n",
       "      <td>Pick Me Up</td>\n",
       "      <td>Pick Me Up</td>\n",
       "      <td>196</td>\n",
       "    </tr>\n",
       "    <tr>\n",
       "      <th>196</th>\n",
       "      <td>SOS</td>\n",
       "      <td>SOS</td>\n",
       "      <td>197</td>\n",
       "    </tr>\n",
       "    <tr>\n",
       "      <th>197</th>\n",
       "      <td>Forget Me</td>\n",
       "      <td>Forget Me</td>\n",
       "      <td>198</td>\n",
       "    </tr>\n",
       "    <tr>\n",
       "      <th>198</th>\n",
       "      <td>La Jumpa</td>\n",
       "      <td>La Jumpa</td>\n",
       "      <td>199</td>\n",
       "    </tr>\n",
       "    <tr>\n",
       "      <th>199</th>\n",
       "      <td>Gone Girl</td>\n",
       "      <td>Gone Girl</td>\n",
       "      <td>200</td>\n",
       "    </tr>\n",
       "  </tbody>\n",
       "</table>\n",
       "<p>200 rows × 3 columns</p>\n",
       "</div>"
      ],
      "text/plain": [
       "                                 Songs                  Artist  rank\n",
       "0      All I Want For Christmas Is You                Daughtry     1\n",
       "1    Rockin' Around The Christmas Tree  Sam Smith & Kim Petras     2\n",
       "2                     Jingle Bell Rock           Lainey Wilson     3\n",
       "3                       Last Christmas            Taylor Swift     4\n",
       "4              A Holly Jolly Christmas                 Rihanna     5\n",
       "..                                 ...                     ...   ...\n",
       "195                         Pick Me Up              Pick Me Up   196\n",
       "196                                SOS                     SOS   197\n",
       "197                          Forget Me               Forget Me   198\n",
       "198                           La Jumpa                La Jumpa   199\n",
       "199                          Gone Girl               Gone Girl   200\n",
       "\n",
       "[200 rows x 3 columns]"
      ]
     },
     "execution_count": 50,
     "metadata": {},
     "output_type": "execute_result"
    }
   ],
   "source": [
    "list_song"
   ]
  },
  {
   "cell_type": "code",
   "execution_count": null,
   "id": "268b1bf3",
   "metadata": {},
   "outputs": [],
   "source": []
  }
 ],
 "metadata": {
  "kernelspec": {
   "display_name": "Python 3 (ipykernel)",
   "language": "python",
   "name": "python3"
  },
  "language_info": {
   "codemirror_mode": {
    "name": "ipython",
    "version": 3
   },
   "file_extension": ".py",
   "mimetype": "text/x-python",
   "name": "python",
   "nbconvert_exporter": "python",
   "pygments_lexer": "ipython3",
   "version": "3.9.13"
  }
 },
 "nbformat": 4,
 "nbformat_minor": 5
}
