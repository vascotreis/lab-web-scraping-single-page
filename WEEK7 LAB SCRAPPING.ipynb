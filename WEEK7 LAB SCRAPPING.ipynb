{
 "cells": [
  {
   "cell_type": "markdown",
   "id": "929439db",
   "metadata": {},
   "source": [
    "# LAB Monday: Scrape the current top 100 songs and their respective artists, and put the information into a pandas dataframe."
   ]
  },
  {
   "cell_type": "code",
   "execution_count": 1,
   "id": "18d606a2",
   "metadata": {},
   "outputs": [
    {
     "name": "stderr",
     "output_type": "stream",
     "text": [
      "100%|█████████████████████████████████████████████████████████████████████████████████████████████| 100/100 [00:10<00:00,  9.76it/s]\n"
     ]
    }
   ],
   "source": [
    "# Importing libraries\n",
    "import requests\n",
    "from bs4 import BeautifulSoup\n",
    "import pandas as pd\n",
    "from tqdm import tqdm\n",
    "from random import randint\n",
    "\n",
    "# Storing URL in a variable\n",
    "url = \"https://www.billboard.com/charts/hot-100\"\n",
    "\n",
    "# Sending a GET request to the URL\n",
    "response = requests.get(url)\n",
    "\n",
    "# Checking the response status code to make sure it's successful\n",
    "if response.status_code == 200:\n",
    "    # Parsing the content of the URL\n",
    "    soup = BeautifulSoup(response.content, 'html.parser')\n",
    "else:\n",
    "    # If request was unsuccessful, print an error message\n",
    "    print(\"Failed to retrieve page content. Response status code: \", response.status_code)\n",
    "\n",
    "# Initializing empty lists to store the song titles and artists\n",
    "songs = []\n",
    "artists = []\n",
    "\n",
    "# Using a for loop to loop through all 100 songs on the chart\n",
    "for i in tqdm(range(100)):\n",
    "    # Selecting the i-th song title from the soup and appending it to the songs list\n",
    "    songs.append(soup.select('h3.c-title.a-no-trucate')[i].get_text(strip=True))\n",
    "    # Selecting the i-th artist from the soup and appending it to the artists list\n",
    "    artists.append(soup.select('span.c-label.a-font-primary-s')[i].get_text(strip=True))\n",
    "\n",
    "# Creating a pandas DataFrame from the songs and artists lists, with columns named \"song\" and \"artist\" respectively\n",
    "songs = pd.DataFrame({'song':songs,'artist':artists})\n"
   ]
  },
  {
   "cell_type": "code",
   "execution_count": 2,
   "id": "a6573aaa",
   "metadata": {},
   "outputs": [],
   "source": [
    "import numpy as np\n",
    "songs['Rank']=np.arange(len(songs))+1"
   ]
  },
  {
   "cell_type": "code",
   "execution_count": 3,
   "id": "2af99b16",
   "metadata": {},
   "outputs": [
    {
     "data": {
      "text/html": [
       "<div>\n",
       "<style scoped>\n",
       "    .dataframe tbody tr th:only-of-type {\n",
       "        vertical-align: middle;\n",
       "    }\n",
       "\n",
       "    .dataframe tbody tr th {\n",
       "        vertical-align: top;\n",
       "    }\n",
       "\n",
       "    .dataframe thead th {\n",
       "        text-align: right;\n",
       "    }\n",
       "</style>\n",
       "<table border=\"1\" class=\"dataframe\">\n",
       "  <thead>\n",
       "    <tr style=\"text-align: right;\">\n",
       "      <th></th>\n",
       "      <th>song</th>\n",
       "      <th>artist</th>\n",
       "      <th>Rank</th>\n",
       "    </tr>\n",
       "  </thead>\n",
       "  <tbody>\n",
       "    <tr>\n",
       "      <th>0</th>\n",
       "      <td>Flowers</td>\n",
       "      <td>Miley Cyrus</td>\n",
       "      <td>1</td>\n",
       "    </tr>\n",
       "    <tr>\n",
       "      <th>1</th>\n",
       "      <td>Kill Bill</td>\n",
       "      <td>SZA</td>\n",
       "      <td>2</td>\n",
       "    </tr>\n",
       "    <tr>\n",
       "      <th>2</th>\n",
       "      <td>Anti-Hero</td>\n",
       "      <td>Taylor Swift</td>\n",
       "      <td>3</td>\n",
       "    </tr>\n",
       "    <tr>\n",
       "      <th>3</th>\n",
       "      <td>Creepin'</td>\n",
       "      <td>Metro Boomin, The Weeknd &amp; 21 Savage</td>\n",
       "      <td>4</td>\n",
       "    </tr>\n",
       "    <tr>\n",
       "      <th>4</th>\n",
       "      <td>Unholy</td>\n",
       "      <td>Sam Smith &amp; Kim Petras</td>\n",
       "      <td>5</td>\n",
       "    </tr>\n",
       "    <tr>\n",
       "      <th>...</th>\n",
       "      <td>...</td>\n",
       "      <td>...</td>\n",
       "      <td>...</td>\n",
       "    </tr>\n",
       "    <tr>\n",
       "      <th>95</th>\n",
       "      <td>Do It Again</td>\n",
       "      <td>NLE Choppa &amp; 2Rare</td>\n",
       "      <td>96</td>\n",
       "    </tr>\n",
       "    <tr>\n",
       "      <th>96</th>\n",
       "      <td>Miss You</td>\n",
       "      <td>Oliver Tree &amp; Robin Schulz</td>\n",
       "      <td>97</td>\n",
       "    </tr>\n",
       "    <tr>\n",
       "      <th>97</th>\n",
       "      <td>Back End</td>\n",
       "      <td>Finesse2Tymes</td>\n",
       "      <td>98</td>\n",
       "    </tr>\n",
       "    <tr>\n",
       "      <th>98</th>\n",
       "      <td>Open Arms</td>\n",
       "      <td>SZA Featuring Travis Scott</td>\n",
       "      <td>99</td>\n",
       "    </tr>\n",
       "    <tr>\n",
       "      <th>99</th>\n",
       "      <td>Spit In My Face!</td>\n",
       "      <td>ThxSoMch</td>\n",
       "      <td>100</td>\n",
       "    </tr>\n",
       "  </tbody>\n",
       "</table>\n",
       "<p>100 rows × 3 columns</p>\n",
       "</div>"
      ],
      "text/plain": [
       "                song                                artist  Rank\n",
       "0            Flowers                           Miley Cyrus     1\n",
       "1          Kill Bill                                   SZA     2\n",
       "2          Anti-Hero                          Taylor Swift     3\n",
       "3           Creepin'  Metro Boomin, The Weeknd & 21 Savage     4\n",
       "4             Unholy                Sam Smith & Kim Petras     5\n",
       "..               ...                                   ...   ...\n",
       "95       Do It Again                    NLE Choppa & 2Rare    96\n",
       "96          Miss You            Oliver Tree & Robin Schulz    97\n",
       "97          Back End                         Finesse2Tymes    98\n",
       "98         Open Arms            SZA Featuring Travis Scott    99\n",
       "99  Spit In My Face!                              ThxSoMch   100\n",
       "\n",
       "[100 rows x 3 columns]"
      ]
     },
     "execution_count": 3,
     "metadata": {},
     "output_type": "execute_result"
    }
   ],
   "source": [
    "songs"
   ]
  },
  {
   "cell_type": "markdown",
   "id": "97b3a008",
   "metadata": {},
   "source": [
    "# LAB Tuesday: Prototype with user input"
   ]
  },
  {
   "cell_type": "code",
   "execution_count": 6,
   "id": "e9f845a2",
   "metadata": {},
   "outputs": [
    {
     "name": "stdin",
     "output_type": "stream",
     "text": [
      "what song do you like?  anti hero\n"
     ]
    },
    {
     "name": "stdout",
     "output_type": "stream",
     "text": [
      "The song does not match, try again\n"
     ]
    }
   ],
   "source": [
    "\n",
    "input_song= input('what song do you like? ')\n",
    "\n",
    "if input_song in songs['song'].values:\n",
    "    print ('The song exists')\n",
    "else:\n",
    "    print('The song does not match, try again')"
   ]
  },
  {
   "cell_type": "code",
   "execution_count": 18,
   "id": "011fc794",
   "metadata": {},
   "outputs": [
    {
     "name": "stdout",
     "output_type": "stream",
     "text": [
      "what song do you like? Anti-hero\n",
      "This is a hot song\n"
     ]
    }
   ],
   "source": [
    "input_song= input('what song do you like? ')\n",
    "lower_song=input_song.lower()\n",
    "\n",
    "df = songs.applymap(lambda s:s.lower() if type(s) == str else s)\n",
    "\n",
    "if lower_song in df['song'].values:\n",
    "    print ('This is a hot song')\n",
    "else:\n",
    "    print('This is not a hot song or does not match with the top 100, try again')"
   ]
  },
  {
   "cell_type": "code",
   "execution_count": 20,
   "id": "08ed3394",
   "metadata": {},
   "outputs": [
    {
     "name": "stdout",
     "output_type": "stream",
     "text": [
      "what song do you like? anti-hero\n",
      "This is a hot song\n"
     ]
    }
   ],
   "source": [
    "input_song= input('what song do you like? ')\n",
    "lower_song=input_song.lower()\n",
    "\n",
    "df = songs.applymap(lambda s:s.lower() if type(s) == str else s)\n",
    "\n",
    "if lower_song in df['song'].values:\n",
    "    print ('This is a hot song')\n",
    "else:\n",
    "    print('This is not a hot song or does not match with the top 100, but we suggest you these other hot songs: \\n')\n",
    "    print(songs[['Song_title','Rank']].sample(n=5, random_state=3))"
   ]
  }
 ],
 "metadata": {
  "kernelspec": {
   "display_name": "Python 3 (ipykernel)",
   "language": "python",
   "name": "python3"
  },
  "language_info": {
   "codemirror_mode": {
    "name": "ipython",
    "version": 3
   },
   "file_extension": ".py",
   "mimetype": "text/x-python",
   "name": "python",
   "nbconvert_exporter": "python",
   "pygments_lexer": "ipython3",
   "version": "3.9.13"
  }
 },
 "nbformat": 4,
 "nbformat_minor": 5
}
