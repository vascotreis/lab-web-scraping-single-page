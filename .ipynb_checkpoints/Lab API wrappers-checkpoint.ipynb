{
 "cells": [
  {
   "cell_type": "markdown",
   "id": "48c80e92",
   "metadata": {},
   "source": [
    "# LAB Monday: Scrape the current top 100 songs and their respective artists, and put the information into a pandas dataframe."
   ]
  },
  {
   "cell_type": "code",
   "execution_count": 1,
   "id": "e279e85a",
   "metadata": {},
   "outputs": [],
   "source": [
    "import requests\n",
    "from bs4 import BeautifulSoup\n"
   ]
  },
  {
   "cell_type": "code",
   "execution_count": 2,
   "id": "ee535b06",
   "metadata": {},
   "outputs": [],
   "source": [
    "url='https://www.billboard.com/charts/hot-100/'\n"
   ]
  },
  {
   "cell_type": "code",
   "execution_count": 3,
   "id": "0d722166",
   "metadata": {},
   "outputs": [],
   "source": [
    "results=requests.get(url, headers ={'Accept-Language':'en-US'})\n"
   ]
  },
  {
   "cell_type": "code",
   "execution_count": 4,
   "id": "872f5817",
   "metadata": {},
   "outputs": [],
   "source": [
    "soup = BeautifulSoup(results.content,'html.parser')\n"
   ]
  },
  {
   "cell_type": "code",
   "execution_count": 5,
   "id": "da1f4634",
   "metadata": {},
   "outputs": [
    {
     "data": {
      "text/plain": [
       "'Anti-Hero'"
      ]
     },
     "execution_count": 5,
     "metadata": {},
     "output_type": "execute_result"
    }
   ],
   "source": [
    "soup.select('h3.c-title.a-no-trucate')[0].get_text(strip=True)\n"
   ]
  },
  {
   "cell_type": "code",
   "execution_count": 6,
   "id": "fcb666e7",
   "metadata": {},
   "outputs": [
    {
     "data": {
      "text/plain": [
       "'Taylor Swift'"
      ]
     },
     "execution_count": 6,
     "metadata": {},
     "output_type": "execute_result"
    }
   ],
   "source": [
    "soup.select('span.c-label.a-no-trucate')[0].get_text(strip=True)\n"
   ]
  },
  {
   "cell_type": "code",
   "execution_count": 7,
   "id": "7269c63a",
   "metadata": {},
   "outputs": [],
   "source": [
    "title=[]\n",
    "artists=[]\n",
    "\n",
    "len_songs=len(soup.select('h3.c-title.a-no-trucate'))"
   ]
  },
  {
   "cell_type": "code",
   "execution_count": 8,
   "id": "4790841c",
   "metadata": {},
   "outputs": [
    {
     "data": {
      "text/plain": [
       "100"
      ]
     },
     "execution_count": 8,
     "metadata": {},
     "output_type": "execute_result"
    }
   ],
   "source": [
    "len_songs\n"
   ]
  },
  {
   "cell_type": "code",
   "execution_count": 9,
   "id": "2a214287",
   "metadata": {},
   "outputs": [],
   "source": [
    "# title_df=[]\n",
    "# artist_df=[]\n",
    "\n",
    "# for songs in title:\n",
    "#     title_df.append(songs.replace('\\n', ''))\n",
    "\n",
    "# for songs in artists:\n",
    "#     artist_df.append(songs.replace('\\n', ''))\n",
    "\n",
    "\n",
    "# using strip=True in the step before it is not necessary to replace \\n"
   ]
  },
  {
   "cell_type": "code",
   "execution_count": 10,
   "id": "bb44f9b9",
   "metadata": {},
   "outputs": [
    {
     "data": {
      "text/plain": [
       "0"
      ]
     },
     "execution_count": 10,
     "metadata": {},
     "output_type": "execute_result"
    }
   ],
   "source": [
    "len(title)\n"
   ]
  },
  {
   "cell_type": "code",
   "execution_count": 11,
   "id": "e80bacca",
   "metadata": {},
   "outputs": [
    {
     "data": {
      "text/plain": [
       "0"
      ]
     },
     "execution_count": 11,
     "metadata": {},
     "output_type": "execute_result"
    }
   ],
   "source": [
    "len(artists)\n"
   ]
  },
  {
   "cell_type": "code",
   "execution_count": 12,
   "id": "b8b61d05",
   "metadata": {},
   "outputs": [
    {
     "data": {
      "text/html": [
       "<div>\n",
       "<style scoped>\n",
       "    .dataframe tbody tr th:only-of-type {\n",
       "        vertical-align: middle;\n",
       "    }\n",
       "\n",
       "    .dataframe tbody tr th {\n",
       "        vertical-align: top;\n",
       "    }\n",
       "\n",
       "    .dataframe thead th {\n",
       "        text-align: right;\n",
       "    }\n",
       "</style>\n",
       "<table border=\"1\" class=\"dataframe\">\n",
       "  <thead>\n",
       "    <tr style=\"text-align: right;\">\n",
       "      <th></th>\n",
       "      <th>Song_title</th>\n",
       "      <th>Artists</th>\n",
       "    </tr>\n",
       "  </thead>\n",
       "  <tbody>\n",
       "  </tbody>\n",
       "</table>\n",
       "</div>"
      ],
      "text/plain": [
       "Empty DataFrame\n",
       "Columns: [Song_title, Artists]\n",
       "Index: []"
      ]
     },
     "execution_count": 12,
     "metadata": {},
     "output_type": "execute_result"
    }
   ],
   "source": [
    "import pandas as pd\n",
    "\n",
    "songs=pd.DataFrame({'Song_title':title, 'Artists':artists})\n",
    "songs\n"
   ]
  },
  {
   "cell_type": "code",
   "execution_count": 13,
   "id": "90904dc2",
   "metadata": {},
   "outputs": [
    {
     "data": {
      "text/html": [
       "<div>\n",
       "<style scoped>\n",
       "    .dataframe tbody tr th:only-of-type {\n",
       "        vertical-align: middle;\n",
       "    }\n",
       "\n",
       "    .dataframe tbody tr th {\n",
       "        vertical-align: top;\n",
       "    }\n",
       "\n",
       "    .dataframe thead th {\n",
       "        text-align: right;\n",
       "    }\n",
       "</style>\n",
       "<table border=\"1\" class=\"dataframe\">\n",
       "  <thead>\n",
       "    <tr style=\"text-align: right;\">\n",
       "      <th></th>\n",
       "      <th>Song_title</th>\n",
       "      <th>Artists</th>\n",
       "    </tr>\n",
       "  </thead>\n",
       "  <tbody>\n",
       "  </tbody>\n",
       "</table>\n",
       "</div>"
      ],
      "text/plain": [
       "Empty DataFrame\n",
       "Columns: [Song_title, Artists]\n",
       "Index: []"
      ]
     },
     "execution_count": 13,
     "metadata": {},
     "output_type": "execute_result"
    }
   ],
   "source": [
    "import pandas as pd\n",
    "\n",
    "songs=pd.DataFrame({'Song_title':title, 'Artists':artists})\n",
    "songs\n"
   ]
  },
  {
   "cell_type": "code",
   "execution_count": 14,
   "id": "a9f298f3",
   "metadata": {},
   "outputs": [
    {
     "data": {
      "text/html": [
       "<div>\n",
       "<style scoped>\n",
       "    .dataframe tbody tr th:only-of-type {\n",
       "        vertical-align: middle;\n",
       "    }\n",
       "\n",
       "    .dataframe tbody tr th {\n",
       "        vertical-align: top;\n",
       "    }\n",
       "\n",
       "    .dataframe thead th {\n",
       "        text-align: right;\n",
       "    }\n",
       "</style>\n",
       "<table border=\"1\" class=\"dataframe\">\n",
       "  <thead>\n",
       "    <tr style=\"text-align: right;\">\n",
       "      <th></th>\n",
       "      <th>Song_title</th>\n",
       "      <th>Artists</th>\n",
       "    </tr>\n",
       "  </thead>\n",
       "  <tbody>\n",
       "  </tbody>\n",
       "</table>\n",
       "</div>"
      ],
      "text/plain": [
       "Empty DataFrame\n",
       "Columns: [Song_title, Artists]\n",
       "Index: []"
      ]
     },
     "execution_count": 14,
     "metadata": {},
     "output_type": "execute_result"
    }
   ],
   "source": [
    "songs"
   ]
  },
  {
   "cell_type": "markdown",
   "id": "735105e1",
   "metadata": {},
   "source": [
    "# LAB Wednesday: API wrappers - Create your collection of songs & audio features"
   ]
  },
  {
   "cell_type": "code",
   "execution_count": 15,
   "id": "5184b008",
   "metadata": {},
   "outputs": [],
   "source": [
    "import spotipy # install if needed\n",
    "from spotipy.oauth2 import SpotifyClientCredentials\n",
    "import getpass"
   ]
  },
  {
   "cell_type": "code",
   "execution_count": 16,
   "id": "26e22605",
   "metadata": {},
   "outputs": [
    {
     "name": "stdout",
     "output_type": "stream",
     "text": [
      "client_id?········\n",
      "client_secret?········\n"
     ]
    }
   ],
   "source": [
    "client_id = str(getpass.getpass('client_id?'))\n",
    "client_secret = str(getpass.getpass('client_secret?'))"
   ]
  },
  {
   "cell_type": "code",
   "execution_count": 17,
   "id": "40da55fe",
   "metadata": {},
   "outputs": [],
   "source": [
    "client_credentials_manager = SpotifyClientCredentials(client_id, client_secret)\n",
    "sp = spotipy.Spotify(client_credentials_manager = client_credentials_manager)"
   ]
  },
  {
   "cell_type": "code",
   "execution_count": 18,
   "id": "a3efbbf6",
   "metadata": {},
   "outputs": [],
   "source": [
    "playlist=sp.user_playlist_tracks('Bradnumber1','1YL4XoegERoragv0RK2RC9')\n"
   ]
  },
  {
   "cell_type": "code",
   "execution_count": 19,
   "id": "e5b3d51e",
   "metadata": {},
   "outputs": [
    {
     "data": {
      "text/plain": [
       "dict_keys(['href', 'items', 'limit', 'next', 'offset', 'previous', 'total'])"
      ]
     },
     "execution_count": 19,
     "metadata": {},
     "output_type": "execute_result"
    }
   ],
   "source": [
    "playlist.keys()"
   ]
  },
  {
   "cell_type": "code",
   "execution_count": 20,
   "id": "2b073322",
   "metadata": {},
   "outputs": [
    {
     "data": {
      "text/plain": [
       "'1Bt06pqlg8pqlpnl4R6Rd2'"
      ]
     },
     "execution_count": 20,
     "metadata": {},
     "output_type": "execute_result"
    }
   ],
   "source": [
    "playlist['items'][4]['track']['id']"
   ]
  },
  {
   "cell_type": "code",
   "execution_count": 21,
   "id": "f5e3909b",
   "metadata": {},
   "outputs": [
    {
     "data": {
      "text/plain": [
       "9994"
      ]
     },
     "execution_count": 21,
     "metadata": {},
     "output_type": "execute_result"
    }
   ],
   "source": [
    "playlist['total']"
   ]
  },
  {
   "cell_type": "code",
   "execution_count": 22,
   "id": "054db7b2",
   "metadata": {},
   "outputs": [
    {
     "data": {
      "text/plain": [
       "100"
      ]
     },
     "execution_count": 22,
     "metadata": {},
     "output_type": "execute_result"
    }
   ],
   "source": [
    "len(playlist['items'])"
   ]
  },
  {
   "cell_type": "code",
   "execution_count": 23,
   "id": "3b35427f",
   "metadata": {},
   "outputs": [],
   "source": [
    "def get_playlist_tracks(user_id,playlist_id):\n",
    "    results = sp.user_playlist_tracks(user_id,playlist_id)\n",
    "    tracks = results['items']\n",
    "    while results['next']:\n",
    "        results = sp.next(results)\n",
    "    tracks.extend(results['items'])\n",
    "    return tracks"
   ]
  },
  {
   "cell_type": "code",
   "execution_count": 24,
   "id": "7279f6c9",
   "metadata": {},
   "outputs": [],
   "source": [
    "full_track_ids=get_playlist_tracks('Bradnumber1','1YL4XoegERoragv0RK2RC9')"
   ]
  },
  {
   "cell_type": "code",
   "execution_count": 25,
   "id": "d5dacd65",
   "metadata": {},
   "outputs": [
    {
     "data": {
      "text/plain": [
       "194"
      ]
     },
     "execution_count": 25,
     "metadata": {},
     "output_type": "execute_result"
    }
   ],
   "source": [
    "len(full_track_ids)"
   ]
  },
  {
   "cell_type": "code",
   "execution_count": 26,
   "id": "ffb4fa46",
   "metadata": {},
   "outputs": [
    {
     "data": {
      "text/plain": [
       "dict_keys(['added_at', 'added_by', 'is_local', 'primary_color', 'track', 'video_thumbnail'])"
      ]
     },
     "execution_count": 26,
     "metadata": {},
     "output_type": "execute_result"
    }
   ],
   "source": [
    "full_track_ids[0].keys()"
   ]
  },
  {
   "cell_type": "code",
   "execution_count": 27,
   "id": "386152ef",
   "metadata": {},
   "outputs": [
    {
     "data": {
      "text/plain": [
       "dict_keys(['album', 'artists', 'available_markets', 'disc_number', 'duration_ms', 'episode', 'explicit', 'external_ids', 'external_urls', 'href', 'id', 'is_local', 'name', 'popularity', 'preview_url', 'track', 'track_number', 'type', 'uri'])"
      ]
     },
     "execution_count": 27,
     "metadata": {},
     "output_type": "execute_result"
    }
   ],
   "source": [
    "\n",
    "full_track_ids[0]['track'].keys()"
   ]
  },
  {
   "cell_type": "code",
   "execution_count": 28,
   "id": "a11fd9f7",
   "metadata": {},
   "outputs": [
    {
     "data": {
      "text/plain": [
       "'What Is Truth'"
      ]
     },
     "execution_count": 28,
     "metadata": {},
     "output_type": "execute_result"
    }
   ],
   "source": [
    "full_track_ids[0]['track']['name']\n"
   ]
  },
  {
   "cell_type": "code",
   "execution_count": 29,
   "id": "48fa052f",
   "metadata": {},
   "outputs": [
    {
     "data": {
      "text/plain": [
       "'Johnny Cash'"
      ]
     },
     "execution_count": 29,
     "metadata": {},
     "output_type": "execute_result"
    }
   ],
   "source": [
    "full_track_ids[0]['track']['artists'][0]['name']\n"
   ]
  },
  {
   "cell_type": "code",
   "execution_count": 30,
   "id": "651272b8",
   "metadata": {},
   "outputs": [
    {
     "data": {
      "text/plain": [
       "'0snyjt8NMg7Dc7E3xnDH9b'"
      ]
     },
     "execution_count": 30,
     "metadata": {},
     "output_type": "execute_result"
    }
   ],
   "source": [
    "full_track_ids[0]['track']['id']\n"
   ]
  },
  {
   "cell_type": "code",
   "execution_count": 31,
   "id": "33388312",
   "metadata": {},
   "outputs": [],
   "source": [
    "title=[]\n",
    "artist=[]\n",
    "song_id=[]\n",
    "\n",
    "for i in full_track_ids:\n",
    "    title.append(i['track']['name'])\n",
    "    artist.append(i['track']['artists'][0]['name'])\n",
    "    song_id.append(i['track']['id'])"
   ]
  },
  {
   "cell_type": "code",
   "execution_count": 32,
   "id": "24df9cd6",
   "metadata": {},
   "outputs": [],
   "source": [
    "playlist_df=pd.DataFrame({'title': title, 'artist': artist, 'song_id': song_id})\n"
   ]
  },
  {
   "cell_type": "code",
   "execution_count": 33,
   "id": "9685ce76",
   "metadata": {},
   "outputs": [
    {
     "data": {
      "text/html": [
       "<div>\n",
       "<style scoped>\n",
       "    .dataframe tbody tr th:only-of-type {\n",
       "        vertical-align: middle;\n",
       "    }\n",
       "\n",
       "    .dataframe tbody tr th {\n",
       "        vertical-align: top;\n",
       "    }\n",
       "\n",
       "    .dataframe thead th {\n",
       "        text-align: right;\n",
       "    }\n",
       "</style>\n",
       "<table border=\"1\" class=\"dataframe\">\n",
       "  <thead>\n",
       "    <tr style=\"text-align: right;\">\n",
       "      <th></th>\n",
       "      <th>title</th>\n",
       "      <th>artist</th>\n",
       "      <th>song_id</th>\n",
       "    </tr>\n",
       "  </thead>\n",
       "  <tbody>\n",
       "    <tr>\n",
       "      <th>0</th>\n",
       "      <td>What Is Truth</td>\n",
       "      <td>Johnny Cash</td>\n",
       "      <td>0snyjt8NMg7Dc7E3xnDH9b</td>\n",
       "    </tr>\n",
       "    <tr>\n",
       "      <th>1</th>\n",
       "      <td>The Boxer</td>\n",
       "      <td>Simon &amp; Garfunkel</td>\n",
       "      <td>76TZCvJ8GitQ2FA1q5dKu0</td>\n",
       "    </tr>\n",
       "    <tr>\n",
       "      <th>2</th>\n",
       "      <td>You Are The Reason - Duet Version</td>\n",
       "      <td>Calum Scott</td>\n",
       "      <td>4gJAWJnE5cvAAWyTMTxgdY</td>\n",
       "    </tr>\n",
       "    <tr>\n",
       "      <th>3</th>\n",
       "      <td>Genie in a Bottle</td>\n",
       "      <td>Christina Aguilera</td>\n",
       "      <td>2EVv4Vxu3HGPr32CQecgHx</td>\n",
       "    </tr>\n",
       "    <tr>\n",
       "      <th>4</th>\n",
       "      <td>Those Kinda Nights (feat. Ed Sheeran)</td>\n",
       "      <td>Eminem</td>\n",
       "      <td>1Bt06pqlg8pqlpnl4R6Rd2</td>\n",
       "    </tr>\n",
       "    <tr>\n",
       "      <th>...</th>\n",
       "      <td>...</td>\n",
       "      <td>...</td>\n",
       "      <td>...</td>\n",
       "    </tr>\n",
       "    <tr>\n",
       "      <th>189</th>\n",
       "      <td>Sand in My Shoes</td>\n",
       "      <td>Dido</td>\n",
       "      <td>4ObePnl5sf02pKfYUeGpkp</td>\n",
       "    </tr>\n",
       "    <tr>\n",
       "      <th>190</th>\n",
       "      <td>Turn Me On</td>\n",
       "      <td>Norah Jones</td>\n",
       "      <td>1qzHqfvKrZWo6dVHM1dXrj</td>\n",
       "    </tr>\n",
       "    <tr>\n",
       "      <th>191</th>\n",
       "      <td>Made You Look</td>\n",
       "      <td>Meghan Trainor</td>\n",
       "      <td>0QHEIqNKsMoOY5urbzN48u</td>\n",
       "    </tr>\n",
       "    <tr>\n",
       "      <th>192</th>\n",
       "      <td>2 Be Loved (Am I Ready)</td>\n",
       "      <td>Lizzo</td>\n",
       "      <td>13Irp51zj01BZu2XtDrnAg</td>\n",
       "    </tr>\n",
       "    <tr>\n",
       "      <th>193</th>\n",
       "      <td>Unwritten</td>\n",
       "      <td>Natasha Bedingfield</td>\n",
       "      <td>3U5JVgI2x4rDyHGObzJfNf</td>\n",
       "    </tr>\n",
       "  </tbody>\n",
       "</table>\n",
       "<p>194 rows × 3 columns</p>\n",
       "</div>"
      ],
      "text/plain": [
       "                                     title               artist  \\\n",
       "0                            What Is Truth          Johnny Cash   \n",
       "1                                The Boxer    Simon & Garfunkel   \n",
       "2        You Are The Reason - Duet Version          Calum Scott   \n",
       "3                        Genie in a Bottle   Christina Aguilera   \n",
       "4    Those Kinda Nights (feat. Ed Sheeran)               Eminem   \n",
       "..                                     ...                  ...   \n",
       "189                       Sand in My Shoes                 Dido   \n",
       "190                             Turn Me On          Norah Jones   \n",
       "191                          Made You Look       Meghan Trainor   \n",
       "192                2 Be Loved (Am I Ready)                Lizzo   \n",
       "193                              Unwritten  Natasha Bedingfield   \n",
       "\n",
       "                    song_id  \n",
       "0    0snyjt8NMg7Dc7E3xnDH9b  \n",
       "1    76TZCvJ8GitQ2FA1q5dKu0  \n",
       "2    4gJAWJnE5cvAAWyTMTxgdY  \n",
       "3    2EVv4Vxu3HGPr32CQecgHx  \n",
       "4    1Bt06pqlg8pqlpnl4R6Rd2  \n",
       "..                      ...  \n",
       "189  4ObePnl5sf02pKfYUeGpkp  \n",
       "190  1qzHqfvKrZWo6dVHM1dXrj  \n",
       "191  0QHEIqNKsMoOY5urbzN48u  \n",
       "192  13Irp51zj01BZu2XtDrnAg  \n",
       "193  3U5JVgI2x4rDyHGObzJfNf  \n",
       "\n",
       "[194 rows x 3 columns]"
      ]
     },
     "execution_count": 33,
     "metadata": {},
     "output_type": "execute_result"
    }
   ],
   "source": [
    "playlist_df\n"
   ]
  },
  {
   "cell_type": "code",
   "execution_count": 34,
   "id": "8d803d7b",
   "metadata": {},
   "outputs": [],
   "source": [
    "spaceplaylist=[]\n",
    "for i in range(len(playlist_df)):\n",
    "    spaceplaylist.extend(sp.audio_features(tracks=playlist_df['song_id'][i]))"
   ]
  },
  {
   "cell_type": "code",
   "execution_count": 35,
   "id": "21b071bf",
   "metadata": {},
   "outputs": [],
   "source": [
    "song_features=pd.DataFrame.from_dict(spaceplaylist)\n"
   ]
  },
  {
   "cell_type": "code",
   "execution_count": 36,
   "id": "bf6beaa4",
   "metadata": {},
   "outputs": [
    {
     "data": {
      "text/html": [
       "<div>\n",
       "<style scoped>\n",
       "    .dataframe tbody tr th:only-of-type {\n",
       "        vertical-align: middle;\n",
       "    }\n",
       "\n",
       "    .dataframe tbody tr th {\n",
       "        vertical-align: top;\n",
       "    }\n",
       "\n",
       "    .dataframe thead th {\n",
       "        text-align: right;\n",
       "    }\n",
       "</style>\n",
       "<table border=\"1\" class=\"dataframe\">\n",
       "  <thead>\n",
       "    <tr style=\"text-align: right;\">\n",
       "      <th></th>\n",
       "      <th>danceability</th>\n",
       "      <th>energy</th>\n",
       "      <th>key</th>\n",
       "      <th>loudness</th>\n",
       "      <th>mode</th>\n",
       "      <th>speechiness</th>\n",
       "      <th>acousticness</th>\n",
       "      <th>instrumentalness</th>\n",
       "      <th>liveness</th>\n",
       "      <th>valence</th>\n",
       "      <th>tempo</th>\n",
       "      <th>type</th>\n",
       "      <th>id</th>\n",
       "      <th>uri</th>\n",
       "      <th>track_href</th>\n",
       "      <th>analysis_url</th>\n",
       "      <th>duration_ms</th>\n",
       "      <th>time_signature</th>\n",
       "    </tr>\n",
       "  </thead>\n",
       "  <tbody>\n",
       "    <tr>\n",
       "      <th>0</th>\n",
       "      <td>0.681</td>\n",
       "      <td>0.385</td>\n",
       "      <td>4</td>\n",
       "      <td>-12.568</td>\n",
       "      <td>1</td>\n",
       "      <td>0.1180</td>\n",
       "      <td>0.38300</td>\n",
       "      <td>0.171000</td>\n",
       "      <td>0.2770</td>\n",
       "      <td>0.628</td>\n",
       "      <td>86.137</td>\n",
       "      <td>audio_features</td>\n",
       "      <td>0snyjt8NMg7Dc7E3xnDH9b</td>\n",
       "      <td>spotify:track:0snyjt8NMg7Dc7E3xnDH9b</td>\n",
       "      <td>https://api.spotify.com/v1/tracks/0snyjt8NMg7D...</td>\n",
       "      <td>https://api.spotify.com/v1/audio-analysis/0sny...</td>\n",
       "      <td>157667</td>\n",
       "      <td>4</td>\n",
       "    </tr>\n",
       "    <tr>\n",
       "      <th>1</th>\n",
       "      <td>0.439</td>\n",
       "      <td>0.488</td>\n",
       "      <td>11</td>\n",
       "      <td>-14.464</td>\n",
       "      <td>1</td>\n",
       "      <td>0.0615</td>\n",
       "      <td>0.70200</td>\n",
       "      <td>0.000339</td>\n",
       "      <td>0.1600</td>\n",
       "      <td>0.629</td>\n",
       "      <td>93.017</td>\n",
       "      <td>audio_features</td>\n",
       "      <td>76TZCvJ8GitQ2FA1q5dKu0</td>\n",
       "      <td>spotify:track:76TZCvJ8GitQ2FA1q5dKu0</td>\n",
       "      <td>https://api.spotify.com/v1/tracks/76TZCvJ8GitQ...</td>\n",
       "      <td>https://api.spotify.com/v1/audio-analysis/76TZ...</td>\n",
       "      <td>308520</td>\n",
       "      <td>4</td>\n",
       "    </tr>\n",
       "    <tr>\n",
       "      <th>2</th>\n",
       "      <td>0.379</td>\n",
       "      <td>0.329</td>\n",
       "      <td>10</td>\n",
       "      <td>-8.796</td>\n",
       "      <td>1</td>\n",
       "      <td>0.0301</td>\n",
       "      <td>0.44700</td>\n",
       "      <td>0.000000</td>\n",
       "      <td>0.1480</td>\n",
       "      <td>0.127</td>\n",
       "      <td>171.090</td>\n",
       "      <td>audio_features</td>\n",
       "      <td>4gJAWJnE5cvAAWyTMTxgdY</td>\n",
       "      <td>spotify:track:4gJAWJnE5cvAAWyTMTxgdY</td>\n",
       "      <td>https://api.spotify.com/v1/tracks/4gJAWJnE5cvA...</td>\n",
       "      <td>https://api.spotify.com/v1/audio-analysis/4gJA...</td>\n",
       "      <td>190300</td>\n",
       "      <td>3</td>\n",
       "    </tr>\n",
       "    <tr>\n",
       "      <th>3</th>\n",
       "      <td>0.627</td>\n",
       "      <td>0.800</td>\n",
       "      <td>1</td>\n",
       "      <td>-6.945</td>\n",
       "      <td>1</td>\n",
       "      <td>0.1620</td>\n",
       "      <td>0.21000</td>\n",
       "      <td>0.000123</td>\n",
       "      <td>0.1370</td>\n",
       "      <td>0.912</td>\n",
       "      <td>175.815</td>\n",
       "      <td>audio_features</td>\n",
       "      <td>2EVv4Vxu3HGPr32CQecgHx</td>\n",
       "      <td>spotify:track:2EVv4Vxu3HGPr32CQecgHx</td>\n",
       "      <td>https://api.spotify.com/v1/tracks/2EVv4Vxu3HGP...</td>\n",
       "      <td>https://api.spotify.com/v1/audio-analysis/2EVv...</td>\n",
       "      <td>217573</td>\n",
       "      <td>4</td>\n",
       "    </tr>\n",
       "    <tr>\n",
       "      <th>4</th>\n",
       "      <td>0.813</td>\n",
       "      <td>0.641</td>\n",
       "      <td>4</td>\n",
       "      <td>-6.279</td>\n",
       "      <td>0</td>\n",
       "      <td>0.3370</td>\n",
       "      <td>0.02690</td>\n",
       "      <td>0.000000</td>\n",
       "      <td>0.0864</td>\n",
       "      <td>0.390</td>\n",
       "      <td>103.827</td>\n",
       "      <td>audio_features</td>\n",
       "      <td>1Bt06pqlg8pqlpnl4R6Rd2</td>\n",
       "      <td>spotify:track:1Bt06pqlg8pqlpnl4R6Rd2</td>\n",
       "      <td>https://api.spotify.com/v1/tracks/1Bt06pqlg8pq...</td>\n",
       "      <td>https://api.spotify.com/v1/audio-analysis/1Bt0...</td>\n",
       "      <td>177693</td>\n",
       "      <td>4</td>\n",
       "    </tr>\n",
       "    <tr>\n",
       "      <th>...</th>\n",
       "      <td>...</td>\n",
       "      <td>...</td>\n",
       "      <td>...</td>\n",
       "      <td>...</td>\n",
       "      <td>...</td>\n",
       "      <td>...</td>\n",
       "      <td>...</td>\n",
       "      <td>...</td>\n",
       "      <td>...</td>\n",
       "      <td>...</td>\n",
       "      <td>...</td>\n",
       "      <td>...</td>\n",
       "      <td>...</td>\n",
       "      <td>...</td>\n",
       "      <td>...</td>\n",
       "      <td>...</td>\n",
       "      <td>...</td>\n",
       "      <td>...</td>\n",
       "    </tr>\n",
       "    <tr>\n",
       "      <th>189</th>\n",
       "      <td>0.633</td>\n",
       "      <td>0.809</td>\n",
       "      <td>11</td>\n",
       "      <td>-6.702</td>\n",
       "      <td>1</td>\n",
       "      <td>0.0317</td>\n",
       "      <td>0.11400</td>\n",
       "      <td>0.000102</td>\n",
       "      <td>0.1110</td>\n",
       "      <td>0.267</td>\n",
       "      <td>125.953</td>\n",
       "      <td>audio_features</td>\n",
       "      <td>4ObePnl5sf02pKfYUeGpkp</td>\n",
       "      <td>spotify:track:4ObePnl5sf02pKfYUeGpkp</td>\n",
       "      <td>https://api.spotify.com/v1/tracks/4ObePnl5sf02...</td>\n",
       "      <td>https://api.spotify.com/v1/audio-analysis/4Obe...</td>\n",
       "      <td>299173</td>\n",
       "      <td>4</td>\n",
       "    </tr>\n",
       "    <tr>\n",
       "      <th>190</th>\n",
       "      <td>0.429</td>\n",
       "      <td>0.180</td>\n",
       "      <td>10</td>\n",
       "      <td>-10.694</td>\n",
       "      <td>1</td>\n",
       "      <td>0.0551</td>\n",
       "      <td>0.86400</td>\n",
       "      <td>0.000004</td>\n",
       "      <td>0.1040</td>\n",
       "      <td>0.485</td>\n",
       "      <td>170.645</td>\n",
       "      <td>audio_features</td>\n",
       "      <td>1qzHqfvKrZWo6dVHM1dXrj</td>\n",
       "      <td>spotify:track:1qzHqfvKrZWo6dVHM1dXrj</td>\n",
       "      <td>https://api.spotify.com/v1/tracks/1qzHqfvKrZWo...</td>\n",
       "      <td>https://api.spotify.com/v1/audio-analysis/1qzH...</td>\n",
       "      <td>154800</td>\n",
       "      <td>3</td>\n",
       "    </tr>\n",
       "    <tr>\n",
       "      <th>191</th>\n",
       "      <td>0.838</td>\n",
       "      <td>0.525</td>\n",
       "      <td>10</td>\n",
       "      <td>-3.562</td>\n",
       "      <td>1</td>\n",
       "      <td>0.0665</td>\n",
       "      <td>0.34500</td>\n",
       "      <td>0.000002</td>\n",
       "      <td>0.0771</td>\n",
       "      <td>0.884</td>\n",
       "      <td>144.981</td>\n",
       "      <td>audio_features</td>\n",
       "      <td>0QHEIqNKsMoOY5urbzN48u</td>\n",
       "      <td>spotify:track:0QHEIqNKsMoOY5urbzN48u</td>\n",
       "      <td>https://api.spotify.com/v1/tracks/0QHEIqNKsMoO...</td>\n",
       "      <td>https://api.spotify.com/v1/audio-analysis/0QHE...</td>\n",
       "      <td>134256</td>\n",
       "      <td>4</td>\n",
       "    </tr>\n",
       "    <tr>\n",
       "      <th>192</th>\n",
       "      <td>0.721</td>\n",
       "      <td>0.769</td>\n",
       "      <td>7</td>\n",
       "      <td>-4.111</td>\n",
       "      <td>1</td>\n",
       "      <td>0.1050</td>\n",
       "      <td>0.09220</td>\n",
       "      <td>0.000000</td>\n",
       "      <td>0.0817</td>\n",
       "      <td>0.915</td>\n",
       "      <td>155.932</td>\n",
       "      <td>audio_features</td>\n",
       "      <td>13Irp51zj01BZu2XtDrnAg</td>\n",
       "      <td>spotify:track:13Irp51zj01BZu2XtDrnAg</td>\n",
       "      <td>https://api.spotify.com/v1/tracks/13Irp51zj01B...</td>\n",
       "      <td>https://api.spotify.com/v1/audio-analysis/13Ir...</td>\n",
       "      <td>187108</td>\n",
       "      <td>4</td>\n",
       "    </tr>\n",
       "    <tr>\n",
       "      <th>193</th>\n",
       "      <td>0.706</td>\n",
       "      <td>0.800</td>\n",
       "      <td>5</td>\n",
       "      <td>-6.333</td>\n",
       "      <td>1</td>\n",
       "      <td>0.0399</td>\n",
       "      <td>0.00584</td>\n",
       "      <td>0.000000</td>\n",
       "      <td>0.0822</td>\n",
       "      <td>0.629</td>\n",
       "      <td>100.011</td>\n",
       "      <td>audio_features</td>\n",
       "      <td>3U5JVgI2x4rDyHGObzJfNf</td>\n",
       "      <td>spotify:track:3U5JVgI2x4rDyHGObzJfNf</td>\n",
       "      <td>https://api.spotify.com/v1/tracks/3U5JVgI2x4rD...</td>\n",
       "      <td>https://api.spotify.com/v1/audio-analysis/3U5J...</td>\n",
       "      <td>259333</td>\n",
       "      <td>4</td>\n",
       "    </tr>\n",
       "  </tbody>\n",
       "</table>\n",
       "<p>194 rows × 18 columns</p>\n",
       "</div>"
      ],
      "text/plain": [
       "     danceability  energy  key  loudness  mode  speechiness  acousticness  \\\n",
       "0           0.681   0.385    4   -12.568     1       0.1180       0.38300   \n",
       "1           0.439   0.488   11   -14.464     1       0.0615       0.70200   \n",
       "2           0.379   0.329   10    -8.796     1       0.0301       0.44700   \n",
       "3           0.627   0.800    1    -6.945     1       0.1620       0.21000   \n",
       "4           0.813   0.641    4    -6.279     0       0.3370       0.02690   \n",
       "..            ...     ...  ...       ...   ...          ...           ...   \n",
       "189         0.633   0.809   11    -6.702     1       0.0317       0.11400   \n",
       "190         0.429   0.180   10   -10.694     1       0.0551       0.86400   \n",
       "191         0.838   0.525   10    -3.562     1       0.0665       0.34500   \n",
       "192         0.721   0.769    7    -4.111     1       0.1050       0.09220   \n",
       "193         0.706   0.800    5    -6.333     1       0.0399       0.00584   \n",
       "\n",
       "     instrumentalness  liveness  valence    tempo            type  \\\n",
       "0            0.171000    0.2770    0.628   86.137  audio_features   \n",
       "1            0.000339    0.1600    0.629   93.017  audio_features   \n",
       "2            0.000000    0.1480    0.127  171.090  audio_features   \n",
       "3            0.000123    0.1370    0.912  175.815  audio_features   \n",
       "4            0.000000    0.0864    0.390  103.827  audio_features   \n",
       "..                ...       ...      ...      ...             ...   \n",
       "189          0.000102    0.1110    0.267  125.953  audio_features   \n",
       "190          0.000004    0.1040    0.485  170.645  audio_features   \n",
       "191          0.000002    0.0771    0.884  144.981  audio_features   \n",
       "192          0.000000    0.0817    0.915  155.932  audio_features   \n",
       "193          0.000000    0.0822    0.629  100.011  audio_features   \n",
       "\n",
       "                         id                                   uri  \\\n",
       "0    0snyjt8NMg7Dc7E3xnDH9b  spotify:track:0snyjt8NMg7Dc7E3xnDH9b   \n",
       "1    76TZCvJ8GitQ2FA1q5dKu0  spotify:track:76TZCvJ8GitQ2FA1q5dKu0   \n",
       "2    4gJAWJnE5cvAAWyTMTxgdY  spotify:track:4gJAWJnE5cvAAWyTMTxgdY   \n",
       "3    2EVv4Vxu3HGPr32CQecgHx  spotify:track:2EVv4Vxu3HGPr32CQecgHx   \n",
       "4    1Bt06pqlg8pqlpnl4R6Rd2  spotify:track:1Bt06pqlg8pqlpnl4R6Rd2   \n",
       "..                      ...                                   ...   \n",
       "189  4ObePnl5sf02pKfYUeGpkp  spotify:track:4ObePnl5sf02pKfYUeGpkp   \n",
       "190  1qzHqfvKrZWo6dVHM1dXrj  spotify:track:1qzHqfvKrZWo6dVHM1dXrj   \n",
       "191  0QHEIqNKsMoOY5urbzN48u  spotify:track:0QHEIqNKsMoOY5urbzN48u   \n",
       "192  13Irp51zj01BZu2XtDrnAg  spotify:track:13Irp51zj01BZu2XtDrnAg   \n",
       "193  3U5JVgI2x4rDyHGObzJfNf  spotify:track:3U5JVgI2x4rDyHGObzJfNf   \n",
       "\n",
       "                                            track_href  \\\n",
       "0    https://api.spotify.com/v1/tracks/0snyjt8NMg7D...   \n",
       "1    https://api.spotify.com/v1/tracks/76TZCvJ8GitQ...   \n",
       "2    https://api.spotify.com/v1/tracks/4gJAWJnE5cvA...   \n",
       "3    https://api.spotify.com/v1/tracks/2EVv4Vxu3HGP...   \n",
       "4    https://api.spotify.com/v1/tracks/1Bt06pqlg8pq...   \n",
       "..                                                 ...   \n",
       "189  https://api.spotify.com/v1/tracks/4ObePnl5sf02...   \n",
       "190  https://api.spotify.com/v1/tracks/1qzHqfvKrZWo...   \n",
       "191  https://api.spotify.com/v1/tracks/0QHEIqNKsMoO...   \n",
       "192  https://api.spotify.com/v1/tracks/13Irp51zj01B...   \n",
       "193  https://api.spotify.com/v1/tracks/3U5JVgI2x4rD...   \n",
       "\n",
       "                                          analysis_url  duration_ms  \\\n",
       "0    https://api.spotify.com/v1/audio-analysis/0sny...       157667   \n",
       "1    https://api.spotify.com/v1/audio-analysis/76TZ...       308520   \n",
       "2    https://api.spotify.com/v1/audio-analysis/4gJA...       190300   \n",
       "3    https://api.spotify.com/v1/audio-analysis/2EVv...       217573   \n",
       "4    https://api.spotify.com/v1/audio-analysis/1Bt0...       177693   \n",
       "..                                                 ...          ...   \n",
       "189  https://api.spotify.com/v1/audio-analysis/4Obe...       299173   \n",
       "190  https://api.spotify.com/v1/audio-analysis/1qzH...       154800   \n",
       "191  https://api.spotify.com/v1/audio-analysis/0QHE...       134256   \n",
       "192  https://api.spotify.com/v1/audio-analysis/13Ir...       187108   \n",
       "193  https://api.spotify.com/v1/audio-analysis/3U5J...       259333   \n",
       "\n",
       "     time_signature  \n",
       "0                 4  \n",
       "1                 4  \n",
       "2                 3  \n",
       "3                 4  \n",
       "4                 4  \n",
       "..              ...  \n",
       "189               4  \n",
       "190               3  \n",
       "191               4  \n",
       "192               4  \n",
       "193               4  \n",
       "\n",
       "[194 rows x 18 columns]"
      ]
     },
     "execution_count": 36,
     "metadata": {},
     "output_type": "execute_result"
    }
   ],
   "source": [
    "song_features\n"
   ]
  },
  {
   "cell_type": "code",
   "execution_count": 37,
   "id": "62dba0ff",
   "metadata": {},
   "outputs": [],
   "source": [
    "playlist_features = playlist_df.merge(song_features, left_on='song_id', right_on='id')\n"
   ]
  },
  {
   "cell_type": "code",
   "execution_count": 38,
   "id": "38ed8503",
   "metadata": {},
   "outputs": [
    {
     "data": {
      "text/html": [
       "<div>\n",
       "<style scoped>\n",
       "    .dataframe tbody tr th:only-of-type {\n",
       "        vertical-align: middle;\n",
       "    }\n",
       "\n",
       "    .dataframe tbody tr th {\n",
       "        vertical-align: top;\n",
       "    }\n",
       "\n",
       "    .dataframe thead th {\n",
       "        text-align: right;\n",
       "    }\n",
       "</style>\n",
       "<table border=\"1\" class=\"dataframe\">\n",
       "  <thead>\n",
       "    <tr style=\"text-align: right;\">\n",
       "      <th></th>\n",
       "      <th>title</th>\n",
       "      <th>artist</th>\n",
       "      <th>song_id</th>\n",
       "      <th>danceability</th>\n",
       "      <th>energy</th>\n",
       "      <th>key</th>\n",
       "      <th>loudness</th>\n",
       "      <th>mode</th>\n",
       "      <th>speechiness</th>\n",
       "      <th>acousticness</th>\n",
       "      <th>...</th>\n",
       "      <th>liveness</th>\n",
       "      <th>valence</th>\n",
       "      <th>tempo</th>\n",
       "      <th>type</th>\n",
       "      <th>id</th>\n",
       "      <th>uri</th>\n",
       "      <th>track_href</th>\n",
       "      <th>analysis_url</th>\n",
       "      <th>duration_ms</th>\n",
       "      <th>time_signature</th>\n",
       "    </tr>\n",
       "  </thead>\n",
       "  <tbody>\n",
       "    <tr>\n",
       "      <th>0</th>\n",
       "      <td>What Is Truth</td>\n",
       "      <td>Johnny Cash</td>\n",
       "      <td>0snyjt8NMg7Dc7E3xnDH9b</td>\n",
       "      <td>0.681</td>\n",
       "      <td>0.385</td>\n",
       "      <td>4</td>\n",
       "      <td>-12.568</td>\n",
       "      <td>1</td>\n",
       "      <td>0.1180</td>\n",
       "      <td>0.38300</td>\n",
       "      <td>...</td>\n",
       "      <td>0.2770</td>\n",
       "      <td>0.628</td>\n",
       "      <td>86.137</td>\n",
       "      <td>audio_features</td>\n",
       "      <td>0snyjt8NMg7Dc7E3xnDH9b</td>\n",
       "      <td>spotify:track:0snyjt8NMg7Dc7E3xnDH9b</td>\n",
       "      <td>https://api.spotify.com/v1/tracks/0snyjt8NMg7D...</td>\n",
       "      <td>https://api.spotify.com/v1/audio-analysis/0sny...</td>\n",
       "      <td>157667</td>\n",
       "      <td>4</td>\n",
       "    </tr>\n",
       "    <tr>\n",
       "      <th>1</th>\n",
       "      <td>The Boxer</td>\n",
       "      <td>Simon &amp; Garfunkel</td>\n",
       "      <td>76TZCvJ8GitQ2FA1q5dKu0</td>\n",
       "      <td>0.439</td>\n",
       "      <td>0.488</td>\n",
       "      <td>11</td>\n",
       "      <td>-14.464</td>\n",
       "      <td>1</td>\n",
       "      <td>0.0615</td>\n",
       "      <td>0.70200</td>\n",
       "      <td>...</td>\n",
       "      <td>0.1600</td>\n",
       "      <td>0.629</td>\n",
       "      <td>93.017</td>\n",
       "      <td>audio_features</td>\n",
       "      <td>76TZCvJ8GitQ2FA1q5dKu0</td>\n",
       "      <td>spotify:track:76TZCvJ8GitQ2FA1q5dKu0</td>\n",
       "      <td>https://api.spotify.com/v1/tracks/76TZCvJ8GitQ...</td>\n",
       "      <td>https://api.spotify.com/v1/audio-analysis/76TZ...</td>\n",
       "      <td>308520</td>\n",
       "      <td>4</td>\n",
       "    </tr>\n",
       "    <tr>\n",
       "      <th>2</th>\n",
       "      <td>You Are The Reason - Duet Version</td>\n",
       "      <td>Calum Scott</td>\n",
       "      <td>4gJAWJnE5cvAAWyTMTxgdY</td>\n",
       "      <td>0.379</td>\n",
       "      <td>0.329</td>\n",
       "      <td>10</td>\n",
       "      <td>-8.796</td>\n",
       "      <td>1</td>\n",
       "      <td>0.0301</td>\n",
       "      <td>0.44700</td>\n",
       "      <td>...</td>\n",
       "      <td>0.1480</td>\n",
       "      <td>0.127</td>\n",
       "      <td>171.090</td>\n",
       "      <td>audio_features</td>\n",
       "      <td>4gJAWJnE5cvAAWyTMTxgdY</td>\n",
       "      <td>spotify:track:4gJAWJnE5cvAAWyTMTxgdY</td>\n",
       "      <td>https://api.spotify.com/v1/tracks/4gJAWJnE5cvA...</td>\n",
       "      <td>https://api.spotify.com/v1/audio-analysis/4gJA...</td>\n",
       "      <td>190300</td>\n",
       "      <td>3</td>\n",
       "    </tr>\n",
       "    <tr>\n",
       "      <th>3</th>\n",
       "      <td>Genie in a Bottle</td>\n",
       "      <td>Christina Aguilera</td>\n",
       "      <td>2EVv4Vxu3HGPr32CQecgHx</td>\n",
       "      <td>0.627</td>\n",
       "      <td>0.800</td>\n",
       "      <td>1</td>\n",
       "      <td>-6.945</td>\n",
       "      <td>1</td>\n",
       "      <td>0.1620</td>\n",
       "      <td>0.21000</td>\n",
       "      <td>...</td>\n",
       "      <td>0.1370</td>\n",
       "      <td>0.912</td>\n",
       "      <td>175.815</td>\n",
       "      <td>audio_features</td>\n",
       "      <td>2EVv4Vxu3HGPr32CQecgHx</td>\n",
       "      <td>spotify:track:2EVv4Vxu3HGPr32CQecgHx</td>\n",
       "      <td>https://api.spotify.com/v1/tracks/2EVv4Vxu3HGP...</td>\n",
       "      <td>https://api.spotify.com/v1/audio-analysis/2EVv...</td>\n",
       "      <td>217573</td>\n",
       "      <td>4</td>\n",
       "    </tr>\n",
       "    <tr>\n",
       "      <th>4</th>\n",
       "      <td>Those Kinda Nights (feat. Ed Sheeran)</td>\n",
       "      <td>Eminem</td>\n",
       "      <td>1Bt06pqlg8pqlpnl4R6Rd2</td>\n",
       "      <td>0.813</td>\n",
       "      <td>0.641</td>\n",
       "      <td>4</td>\n",
       "      <td>-6.279</td>\n",
       "      <td>0</td>\n",
       "      <td>0.3370</td>\n",
       "      <td>0.02690</td>\n",
       "      <td>...</td>\n",
       "      <td>0.0864</td>\n",
       "      <td>0.390</td>\n",
       "      <td>103.827</td>\n",
       "      <td>audio_features</td>\n",
       "      <td>1Bt06pqlg8pqlpnl4R6Rd2</td>\n",
       "      <td>spotify:track:1Bt06pqlg8pqlpnl4R6Rd2</td>\n",
       "      <td>https://api.spotify.com/v1/tracks/1Bt06pqlg8pq...</td>\n",
       "      <td>https://api.spotify.com/v1/audio-analysis/1Bt0...</td>\n",
       "      <td>177693</td>\n",
       "      <td>4</td>\n",
       "    </tr>\n",
       "    <tr>\n",
       "      <th>...</th>\n",
       "      <td>...</td>\n",
       "      <td>...</td>\n",
       "      <td>...</td>\n",
       "      <td>...</td>\n",
       "      <td>...</td>\n",
       "      <td>...</td>\n",
       "      <td>...</td>\n",
       "      <td>...</td>\n",
       "      <td>...</td>\n",
       "      <td>...</td>\n",
       "      <td>...</td>\n",
       "      <td>...</td>\n",
       "      <td>...</td>\n",
       "      <td>...</td>\n",
       "      <td>...</td>\n",
       "      <td>...</td>\n",
       "      <td>...</td>\n",
       "      <td>...</td>\n",
       "      <td>...</td>\n",
       "      <td>...</td>\n",
       "      <td>...</td>\n",
       "    </tr>\n",
       "    <tr>\n",
       "      <th>189</th>\n",
       "      <td>Sand in My Shoes</td>\n",
       "      <td>Dido</td>\n",
       "      <td>4ObePnl5sf02pKfYUeGpkp</td>\n",
       "      <td>0.633</td>\n",
       "      <td>0.809</td>\n",
       "      <td>11</td>\n",
       "      <td>-6.702</td>\n",
       "      <td>1</td>\n",
       "      <td>0.0317</td>\n",
       "      <td>0.11400</td>\n",
       "      <td>...</td>\n",
       "      <td>0.1110</td>\n",
       "      <td>0.267</td>\n",
       "      <td>125.953</td>\n",
       "      <td>audio_features</td>\n",
       "      <td>4ObePnl5sf02pKfYUeGpkp</td>\n",
       "      <td>spotify:track:4ObePnl5sf02pKfYUeGpkp</td>\n",
       "      <td>https://api.spotify.com/v1/tracks/4ObePnl5sf02...</td>\n",
       "      <td>https://api.spotify.com/v1/audio-analysis/4Obe...</td>\n",
       "      <td>299173</td>\n",
       "      <td>4</td>\n",
       "    </tr>\n",
       "    <tr>\n",
       "      <th>190</th>\n",
       "      <td>Turn Me On</td>\n",
       "      <td>Norah Jones</td>\n",
       "      <td>1qzHqfvKrZWo6dVHM1dXrj</td>\n",
       "      <td>0.429</td>\n",
       "      <td>0.180</td>\n",
       "      <td>10</td>\n",
       "      <td>-10.694</td>\n",
       "      <td>1</td>\n",
       "      <td>0.0551</td>\n",
       "      <td>0.86400</td>\n",
       "      <td>...</td>\n",
       "      <td>0.1040</td>\n",
       "      <td>0.485</td>\n",
       "      <td>170.645</td>\n",
       "      <td>audio_features</td>\n",
       "      <td>1qzHqfvKrZWo6dVHM1dXrj</td>\n",
       "      <td>spotify:track:1qzHqfvKrZWo6dVHM1dXrj</td>\n",
       "      <td>https://api.spotify.com/v1/tracks/1qzHqfvKrZWo...</td>\n",
       "      <td>https://api.spotify.com/v1/audio-analysis/1qzH...</td>\n",
       "      <td>154800</td>\n",
       "      <td>3</td>\n",
       "    </tr>\n",
       "    <tr>\n",
       "      <th>191</th>\n",
       "      <td>Made You Look</td>\n",
       "      <td>Meghan Trainor</td>\n",
       "      <td>0QHEIqNKsMoOY5urbzN48u</td>\n",
       "      <td>0.838</td>\n",
       "      <td>0.525</td>\n",
       "      <td>10</td>\n",
       "      <td>-3.562</td>\n",
       "      <td>1</td>\n",
       "      <td>0.0665</td>\n",
       "      <td>0.34500</td>\n",
       "      <td>...</td>\n",
       "      <td>0.0771</td>\n",
       "      <td>0.884</td>\n",
       "      <td>144.981</td>\n",
       "      <td>audio_features</td>\n",
       "      <td>0QHEIqNKsMoOY5urbzN48u</td>\n",
       "      <td>spotify:track:0QHEIqNKsMoOY5urbzN48u</td>\n",
       "      <td>https://api.spotify.com/v1/tracks/0QHEIqNKsMoO...</td>\n",
       "      <td>https://api.spotify.com/v1/audio-analysis/0QHE...</td>\n",
       "      <td>134256</td>\n",
       "      <td>4</td>\n",
       "    </tr>\n",
       "    <tr>\n",
       "      <th>192</th>\n",
       "      <td>2 Be Loved (Am I Ready)</td>\n",
       "      <td>Lizzo</td>\n",
       "      <td>13Irp51zj01BZu2XtDrnAg</td>\n",
       "      <td>0.721</td>\n",
       "      <td>0.769</td>\n",
       "      <td>7</td>\n",
       "      <td>-4.111</td>\n",
       "      <td>1</td>\n",
       "      <td>0.1050</td>\n",
       "      <td>0.09220</td>\n",
       "      <td>...</td>\n",
       "      <td>0.0817</td>\n",
       "      <td>0.915</td>\n",
       "      <td>155.932</td>\n",
       "      <td>audio_features</td>\n",
       "      <td>13Irp51zj01BZu2XtDrnAg</td>\n",
       "      <td>spotify:track:13Irp51zj01BZu2XtDrnAg</td>\n",
       "      <td>https://api.spotify.com/v1/tracks/13Irp51zj01B...</td>\n",
       "      <td>https://api.spotify.com/v1/audio-analysis/13Ir...</td>\n",
       "      <td>187108</td>\n",
       "      <td>4</td>\n",
       "    </tr>\n",
       "    <tr>\n",
       "      <th>193</th>\n",
       "      <td>Unwritten</td>\n",
       "      <td>Natasha Bedingfield</td>\n",
       "      <td>3U5JVgI2x4rDyHGObzJfNf</td>\n",
       "      <td>0.706</td>\n",
       "      <td>0.800</td>\n",
       "      <td>5</td>\n",
       "      <td>-6.333</td>\n",
       "      <td>1</td>\n",
       "      <td>0.0399</td>\n",
       "      <td>0.00584</td>\n",
       "      <td>...</td>\n",
       "      <td>0.0822</td>\n",
       "      <td>0.629</td>\n",
       "      <td>100.011</td>\n",
       "      <td>audio_features</td>\n",
       "      <td>3U5JVgI2x4rDyHGObzJfNf</td>\n",
       "      <td>spotify:track:3U5JVgI2x4rDyHGObzJfNf</td>\n",
       "      <td>https://api.spotify.com/v1/tracks/3U5JVgI2x4rD...</td>\n",
       "      <td>https://api.spotify.com/v1/audio-analysis/3U5J...</td>\n",
       "      <td>259333</td>\n",
       "      <td>4</td>\n",
       "    </tr>\n",
       "  </tbody>\n",
       "</table>\n",
       "<p>194 rows × 21 columns</p>\n",
       "</div>"
      ],
      "text/plain": [
       "                                     title               artist  \\\n",
       "0                            What Is Truth          Johnny Cash   \n",
       "1                                The Boxer    Simon & Garfunkel   \n",
       "2        You Are The Reason - Duet Version          Calum Scott   \n",
       "3                        Genie in a Bottle   Christina Aguilera   \n",
       "4    Those Kinda Nights (feat. Ed Sheeran)               Eminem   \n",
       "..                                     ...                  ...   \n",
       "189                       Sand in My Shoes                 Dido   \n",
       "190                             Turn Me On          Norah Jones   \n",
       "191                          Made You Look       Meghan Trainor   \n",
       "192                2 Be Loved (Am I Ready)                Lizzo   \n",
       "193                              Unwritten  Natasha Bedingfield   \n",
       "\n",
       "                    song_id  danceability  energy  key  loudness  mode  \\\n",
       "0    0snyjt8NMg7Dc7E3xnDH9b         0.681   0.385    4   -12.568     1   \n",
       "1    76TZCvJ8GitQ2FA1q5dKu0         0.439   0.488   11   -14.464     1   \n",
       "2    4gJAWJnE5cvAAWyTMTxgdY         0.379   0.329   10    -8.796     1   \n",
       "3    2EVv4Vxu3HGPr32CQecgHx         0.627   0.800    1    -6.945     1   \n",
       "4    1Bt06pqlg8pqlpnl4R6Rd2         0.813   0.641    4    -6.279     0   \n",
       "..                      ...           ...     ...  ...       ...   ...   \n",
       "189  4ObePnl5sf02pKfYUeGpkp         0.633   0.809   11    -6.702     1   \n",
       "190  1qzHqfvKrZWo6dVHM1dXrj         0.429   0.180   10   -10.694     1   \n",
       "191  0QHEIqNKsMoOY5urbzN48u         0.838   0.525   10    -3.562     1   \n",
       "192  13Irp51zj01BZu2XtDrnAg         0.721   0.769    7    -4.111     1   \n",
       "193  3U5JVgI2x4rDyHGObzJfNf         0.706   0.800    5    -6.333     1   \n",
       "\n",
       "     speechiness  acousticness  ...  liveness  valence    tempo  \\\n",
       "0         0.1180       0.38300  ...    0.2770    0.628   86.137   \n",
       "1         0.0615       0.70200  ...    0.1600    0.629   93.017   \n",
       "2         0.0301       0.44700  ...    0.1480    0.127  171.090   \n",
       "3         0.1620       0.21000  ...    0.1370    0.912  175.815   \n",
       "4         0.3370       0.02690  ...    0.0864    0.390  103.827   \n",
       "..           ...           ...  ...       ...      ...      ...   \n",
       "189       0.0317       0.11400  ...    0.1110    0.267  125.953   \n",
       "190       0.0551       0.86400  ...    0.1040    0.485  170.645   \n",
       "191       0.0665       0.34500  ...    0.0771    0.884  144.981   \n",
       "192       0.1050       0.09220  ...    0.0817    0.915  155.932   \n",
       "193       0.0399       0.00584  ...    0.0822    0.629  100.011   \n",
       "\n",
       "               type                      id  \\\n",
       "0    audio_features  0snyjt8NMg7Dc7E3xnDH9b   \n",
       "1    audio_features  76TZCvJ8GitQ2FA1q5dKu0   \n",
       "2    audio_features  4gJAWJnE5cvAAWyTMTxgdY   \n",
       "3    audio_features  2EVv4Vxu3HGPr32CQecgHx   \n",
       "4    audio_features  1Bt06pqlg8pqlpnl4R6Rd2   \n",
       "..              ...                     ...   \n",
       "189  audio_features  4ObePnl5sf02pKfYUeGpkp   \n",
       "190  audio_features  1qzHqfvKrZWo6dVHM1dXrj   \n",
       "191  audio_features  0QHEIqNKsMoOY5urbzN48u   \n",
       "192  audio_features  13Irp51zj01BZu2XtDrnAg   \n",
       "193  audio_features  3U5JVgI2x4rDyHGObzJfNf   \n",
       "\n",
       "                                      uri  \\\n",
       "0    spotify:track:0snyjt8NMg7Dc7E3xnDH9b   \n",
       "1    spotify:track:76TZCvJ8GitQ2FA1q5dKu0   \n",
       "2    spotify:track:4gJAWJnE5cvAAWyTMTxgdY   \n",
       "3    spotify:track:2EVv4Vxu3HGPr32CQecgHx   \n",
       "4    spotify:track:1Bt06pqlg8pqlpnl4R6Rd2   \n",
       "..                                    ...   \n",
       "189  spotify:track:4ObePnl5sf02pKfYUeGpkp   \n",
       "190  spotify:track:1qzHqfvKrZWo6dVHM1dXrj   \n",
       "191  spotify:track:0QHEIqNKsMoOY5urbzN48u   \n",
       "192  spotify:track:13Irp51zj01BZu2XtDrnAg   \n",
       "193  spotify:track:3U5JVgI2x4rDyHGObzJfNf   \n",
       "\n",
       "                                            track_href  \\\n",
       "0    https://api.spotify.com/v1/tracks/0snyjt8NMg7D...   \n",
       "1    https://api.spotify.com/v1/tracks/76TZCvJ8GitQ...   \n",
       "2    https://api.spotify.com/v1/tracks/4gJAWJnE5cvA...   \n",
       "3    https://api.spotify.com/v1/tracks/2EVv4Vxu3HGP...   \n",
       "4    https://api.spotify.com/v1/tracks/1Bt06pqlg8pq...   \n",
       "..                                                 ...   \n",
       "189  https://api.spotify.com/v1/tracks/4ObePnl5sf02...   \n",
       "190  https://api.spotify.com/v1/tracks/1qzHqfvKrZWo...   \n",
       "191  https://api.spotify.com/v1/tracks/0QHEIqNKsMoO...   \n",
       "192  https://api.spotify.com/v1/tracks/13Irp51zj01B...   \n",
       "193  https://api.spotify.com/v1/tracks/3U5JVgI2x4rD...   \n",
       "\n",
       "                                          analysis_url duration_ms  \\\n",
       "0    https://api.spotify.com/v1/audio-analysis/0sny...      157667   \n",
       "1    https://api.spotify.com/v1/audio-analysis/76TZ...      308520   \n",
       "2    https://api.spotify.com/v1/audio-analysis/4gJA...      190300   \n",
       "3    https://api.spotify.com/v1/audio-analysis/2EVv...      217573   \n",
       "4    https://api.spotify.com/v1/audio-analysis/1Bt0...      177693   \n",
       "..                                                 ...         ...   \n",
       "189  https://api.spotify.com/v1/audio-analysis/4Obe...      299173   \n",
       "190  https://api.spotify.com/v1/audio-analysis/1qzH...      154800   \n",
       "191  https://api.spotify.com/v1/audio-analysis/0QHE...      134256   \n",
       "192  https://api.spotify.com/v1/audio-analysis/13Ir...      187108   \n",
       "193  https://api.spotify.com/v1/audio-analysis/3U5J...      259333   \n",
       "\n",
       "     time_signature  \n",
       "0                 4  \n",
       "1                 4  \n",
       "2                 3  \n",
       "3                 4  \n",
       "4                 4  \n",
       "..              ...  \n",
       "189               4  \n",
       "190               3  \n",
       "191               4  \n",
       "192               4  \n",
       "193               4  \n",
       "\n",
       "[194 rows x 21 columns]"
      ]
     },
     "execution_count": 38,
     "metadata": {},
     "output_type": "execute_result"
    }
   ],
   "source": [
    "playlist_features\n"
   ]
  },
  {
   "cell_type": "code",
   "execution_count": 39,
   "id": "3415190e",
   "metadata": {},
   "outputs": [
    {
     "data": {
      "text/plain": [
       "'https://api.spotify.com/v1/audio-analysis/4gJAWJnE5cvAAWyTMTxgdY'"
      ]
     },
     "execution_count": 39,
     "metadata": {},
     "output_type": "execute_result"
    }
   ],
   "source": [
    "playlist_features['analysis_url'][2]\n"
   ]
  },
  {
   "cell_type": "code",
   "execution_count": null,
   "id": "d90011c8",
   "metadata": {},
   "outputs": [],
   "source": []
  }
 ],
 "metadata": {
  "kernelspec": {
   "display_name": "Python 3 (ipykernel)",
   "language": "python",
   "name": "python3"
  },
  "language_info": {
   "codemirror_mode": {
    "name": "ipython",
    "version": 3
   },
   "file_extension": ".py",
   "mimetype": "text/x-python",
   "name": "python",
   "nbconvert_exporter": "python",
   "pygments_lexer": "ipython3",
   "version": "3.9.13"
  }
 },
 "nbformat": 4,
 "nbformat_minor": 5
}
